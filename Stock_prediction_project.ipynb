{
  "nbformat": 4,
  "nbformat_minor": 0,
  "metadata": {
    "colab": {
      "provenance": [],
      "authorship_tag": "ABX9TyN/LzpT5dYiZb7IzC7eRFkr",
      "include_colab_link": true
    },
    "kernelspec": {
      "name": "python3",
      "display_name": "Python 3"
    },
    "language_info": {
      "name": "python"
    }
  },
  "cells": [
    {
      "cell_type": "markdown",
      "metadata": {
        "id": "view-in-github",
        "colab_type": "text"
      },
      "source": [
        "<a href=\"https://colab.research.google.com/github/jhasahab369/STOCK_prediction/blob/main/Stock_prediction_project.ipynb\" target=\"_parent\"><img src=\"https://colab.research.google.com/assets/colab-badge.svg\" alt=\"Open In Colab\"/></a>"
      ]
    },
    {
      "cell_type": "markdown",
      "source": [
        "**STOCK MARKET PREDICTION **"
      ],
      "metadata": {
        "id": "IGnbSMrBgKv9"
      }
    },
    {
      "cell_type": "code",
      "execution_count": null,
      "metadata": {
        "id": "BmCjXmT5ekN9"
      },
      "outputs": [],
      "source": [
        "import pandas_datareader as pdr\n"
      ]
    },
    {
      "cell_type": "code",
      "source": [
        "\n",
        "\n",
        "df= pdr.get_data_tiingo('AAPL',api_key= 'a1c11177a071ad891483f549d2c496d7d9ebad64' )"
      ],
      "metadata": {
        "colab": {
          "base_uri": "https://localhost:8080/"
        },
        "id": "SquKx8ITgSd9",
        "outputId": "3fb0135a-fc2b-4b06-f4a3-8bf7f3066cc5"
      },
      "execution_count": null,
      "outputs": [
        {
          "output_type": "stream",
          "name": "stderr",
          "text": [
            "<ipython-input-4-1bc54f2d4117>:1: FutureWarning: In a future version of pandas all arguments of concat except for the argument 'objs' will be keyword-only.\n",
            "  df= pdr.get_data_tiingo('AAPL',api_key= 'a1c11177a071ad891483f549d2c496d7d9ebad64' )\n"
          ]
        }
      ]
    },
    {
      "cell_type": "code",
      "source": [
        "df.to_csv('AAPL.csv')"
      ],
      "metadata": {
        "id": "-_f-pub6hmtn"
      },
      "execution_count": null,
      "outputs": []
    },
    {
      "cell_type": "code",
      "source": [
        "df.head()"
      ],
      "metadata": {
        "colab": {
          "base_uri": "https://localhost:8080/",
          "height": 245
        },
        "id": "14iqY9dOh6L4",
        "outputId": "c59eb833-2caf-41d0-8ad8-fd76e94be981"
      },
      "execution_count": null,
      "outputs": [
        {
          "output_type": "execute_result",
          "data": {
            "text/plain": [
              "                                   close    high     low    open    volume  \\\n",
              "symbol date                                                                  \n",
              "AAPL   2018-12-14 00:00:00+00:00  165.48  169.08  165.28  169.00  40703710   \n",
              "       2018-12-17 00:00:00+00:00  163.94  168.35  162.73  165.45  44287922   \n",
              "       2018-12-18 00:00:00+00:00  166.07  167.53  164.39  165.38  33841518   \n",
              "       2018-12-19 00:00:00+00:00  160.89  167.45  159.09  166.00  49047297   \n",
              "       2018-12-20 00:00:00+00:00  156.83  162.11  155.30  160.40  64772960   \n",
              "\n",
              "                                   adjClose    adjHigh     adjLow    adjOpen  \\\n",
              "symbol date                                                                    \n",
              "AAPL   2018-12-14 00:00:00+00:00  39.706129  40.569932  39.658140  40.550736   \n",
              "       2018-12-17 00:00:00+00:00  39.336614  40.394772  39.046280  39.698931   \n",
              "       2018-12-18 00:00:00+00:00  39.847697  40.198017  39.444589  39.682135   \n",
              "       2018-12-19 00:00:00+00:00  38.604781  40.178821  38.172880  39.830901   \n",
              "       2018-12-20 00:00:00+00:00  37.630603  38.897514  37.263487  38.487208   \n",
              "\n",
              "                                  adjVolume  divCash  splitFactor  \n",
              "symbol date                                                        \n",
              "AAPL   2018-12-14 00:00:00+00:00  162814840      0.0          1.0  \n",
              "       2018-12-17 00:00:00+00:00  177151688      0.0          1.0  \n",
              "       2018-12-18 00:00:00+00:00  135366072      0.0          1.0  \n",
              "       2018-12-19 00:00:00+00:00  196189188      0.0          1.0  \n",
              "       2018-12-20 00:00:00+00:00  259091840      0.0          1.0  "
            ],
            "text/html": [
              "\n",
              "  <div id=\"df-34f51982-0c71-4fe7-a75c-c651dcc7b383\" class=\"colab-df-container\">\n",
              "    <div>\n",
              "<style scoped>\n",
              "    .dataframe tbody tr th:only-of-type {\n",
              "        vertical-align: middle;\n",
              "    }\n",
              "\n",
              "    .dataframe tbody tr th {\n",
              "        vertical-align: top;\n",
              "    }\n",
              "\n",
              "    .dataframe thead th {\n",
              "        text-align: right;\n",
              "    }\n",
              "</style>\n",
              "<table border=\"1\" class=\"dataframe\">\n",
              "  <thead>\n",
              "    <tr style=\"text-align: right;\">\n",
              "      <th></th>\n",
              "      <th></th>\n",
              "      <th>close</th>\n",
              "      <th>high</th>\n",
              "      <th>low</th>\n",
              "      <th>open</th>\n",
              "      <th>volume</th>\n",
              "      <th>adjClose</th>\n",
              "      <th>adjHigh</th>\n",
              "      <th>adjLow</th>\n",
              "      <th>adjOpen</th>\n",
              "      <th>adjVolume</th>\n",
              "      <th>divCash</th>\n",
              "      <th>splitFactor</th>\n",
              "    </tr>\n",
              "    <tr>\n",
              "      <th>symbol</th>\n",
              "      <th>date</th>\n",
              "      <th></th>\n",
              "      <th></th>\n",
              "      <th></th>\n",
              "      <th></th>\n",
              "      <th></th>\n",
              "      <th></th>\n",
              "      <th></th>\n",
              "      <th></th>\n",
              "      <th></th>\n",
              "      <th></th>\n",
              "      <th></th>\n",
              "      <th></th>\n",
              "    </tr>\n",
              "  </thead>\n",
              "  <tbody>\n",
              "    <tr>\n",
              "      <th rowspan=\"5\" valign=\"top\">AAPL</th>\n",
              "      <th>2018-12-14 00:00:00+00:00</th>\n",
              "      <td>165.48</td>\n",
              "      <td>169.08</td>\n",
              "      <td>165.28</td>\n",
              "      <td>169.00</td>\n",
              "      <td>40703710</td>\n",
              "      <td>39.706129</td>\n",
              "      <td>40.569932</td>\n",
              "      <td>39.658140</td>\n",
              "      <td>40.550736</td>\n",
              "      <td>162814840</td>\n",
              "      <td>0.0</td>\n",
              "      <td>1.0</td>\n",
              "    </tr>\n",
              "    <tr>\n",
              "      <th>2018-12-17 00:00:00+00:00</th>\n",
              "      <td>163.94</td>\n",
              "      <td>168.35</td>\n",
              "      <td>162.73</td>\n",
              "      <td>165.45</td>\n",
              "      <td>44287922</td>\n",
              "      <td>39.336614</td>\n",
              "      <td>40.394772</td>\n",
              "      <td>39.046280</td>\n",
              "      <td>39.698931</td>\n",
              "      <td>177151688</td>\n",
              "      <td>0.0</td>\n",
              "      <td>1.0</td>\n",
              "    </tr>\n",
              "    <tr>\n",
              "      <th>2018-12-18 00:00:00+00:00</th>\n",
              "      <td>166.07</td>\n",
              "      <td>167.53</td>\n",
              "      <td>164.39</td>\n",
              "      <td>165.38</td>\n",
              "      <td>33841518</td>\n",
              "      <td>39.847697</td>\n",
              "      <td>40.198017</td>\n",
              "      <td>39.444589</td>\n",
              "      <td>39.682135</td>\n",
              "      <td>135366072</td>\n",
              "      <td>0.0</td>\n",
              "      <td>1.0</td>\n",
              "    </tr>\n",
              "    <tr>\n",
              "      <th>2018-12-19 00:00:00+00:00</th>\n",
              "      <td>160.89</td>\n",
              "      <td>167.45</td>\n",
              "      <td>159.09</td>\n",
              "      <td>166.00</td>\n",
              "      <td>49047297</td>\n",
              "      <td>38.604781</td>\n",
              "      <td>40.178821</td>\n",
              "      <td>38.172880</td>\n",
              "      <td>39.830901</td>\n",
              "      <td>196189188</td>\n",
              "      <td>0.0</td>\n",
              "      <td>1.0</td>\n",
              "    </tr>\n",
              "    <tr>\n",
              "      <th>2018-12-20 00:00:00+00:00</th>\n",
              "      <td>156.83</td>\n",
              "      <td>162.11</td>\n",
              "      <td>155.30</td>\n",
              "      <td>160.40</td>\n",
              "      <td>64772960</td>\n",
              "      <td>37.630603</td>\n",
              "      <td>38.897514</td>\n",
              "      <td>37.263487</td>\n",
              "      <td>38.487208</td>\n",
              "      <td>259091840</td>\n",
              "      <td>0.0</td>\n",
              "      <td>1.0</td>\n",
              "    </tr>\n",
              "  </tbody>\n",
              "</table>\n",
              "</div>\n",
              "    <div class=\"colab-df-buttons\">\n",
              "\n",
              "  <div class=\"colab-df-container\">\n",
              "    <button class=\"colab-df-convert\" onclick=\"convertToInteractive('df-34f51982-0c71-4fe7-a75c-c651dcc7b383')\"\n",
              "            title=\"Convert this dataframe to an interactive table.\"\n",
              "            style=\"display:none;\">\n",
              "\n",
              "  <svg xmlns=\"http://www.w3.org/2000/svg\" height=\"24px\" viewBox=\"0 -960 960 960\">\n",
              "    <path d=\"M120-120v-720h720v720H120Zm60-500h600v-160H180v160Zm220 220h160v-160H400v160Zm0 220h160v-160H400v160ZM180-400h160v-160H180v160Zm440 0h160v-160H620v160ZM180-180h160v-160H180v160Zm440 0h160v-160H620v160Z\"/>\n",
              "  </svg>\n",
              "    </button>\n",
              "\n",
              "  <style>\n",
              "    .colab-df-container {\n",
              "      display:flex;\n",
              "      gap: 12px;\n",
              "    }\n",
              "\n",
              "    .colab-df-convert {\n",
              "      background-color: #E8F0FE;\n",
              "      border: none;\n",
              "      border-radius: 50%;\n",
              "      cursor: pointer;\n",
              "      display: none;\n",
              "      fill: #1967D2;\n",
              "      height: 32px;\n",
              "      padding: 0 0 0 0;\n",
              "      width: 32px;\n",
              "    }\n",
              "\n",
              "    .colab-df-convert:hover {\n",
              "      background-color: #E2EBFA;\n",
              "      box-shadow: 0px 1px 2px rgba(60, 64, 67, 0.3), 0px 1px 3px 1px rgba(60, 64, 67, 0.15);\n",
              "      fill: #174EA6;\n",
              "    }\n",
              "\n",
              "    .colab-df-buttons div {\n",
              "      margin-bottom: 4px;\n",
              "    }\n",
              "\n",
              "    [theme=dark] .colab-df-convert {\n",
              "      background-color: #3B4455;\n",
              "      fill: #D2E3FC;\n",
              "    }\n",
              "\n",
              "    [theme=dark] .colab-df-convert:hover {\n",
              "      background-color: #434B5C;\n",
              "      box-shadow: 0px 1px 3px 1px rgba(0, 0, 0, 0.15);\n",
              "      filter: drop-shadow(0px 1px 2px rgba(0, 0, 0, 0.3));\n",
              "      fill: #FFFFFF;\n",
              "    }\n",
              "  </style>\n",
              "\n",
              "    <script>\n",
              "      const buttonEl =\n",
              "        document.querySelector('#df-34f51982-0c71-4fe7-a75c-c651dcc7b383 button.colab-df-convert');\n",
              "      buttonEl.style.display =\n",
              "        google.colab.kernel.accessAllowed ? 'block' : 'none';\n",
              "\n",
              "      async function convertToInteractive(key) {\n",
              "        const element = document.querySelector('#df-34f51982-0c71-4fe7-a75c-c651dcc7b383');\n",
              "        const dataTable =\n",
              "          await google.colab.kernel.invokeFunction('convertToInteractive',\n",
              "                                                    [key], {});\n",
              "        if (!dataTable) return;\n",
              "\n",
              "        const docLinkHtml = 'Like what you see? Visit the ' +\n",
              "          '<a target=\"_blank\" href=https://colab.research.google.com/notebooks/data_table.ipynb>data table notebook</a>'\n",
              "          + ' to learn more about interactive tables.';\n",
              "        element.innerHTML = '';\n",
              "        dataTable['output_type'] = 'display_data';\n",
              "        await google.colab.output.renderOutput(dataTable, element);\n",
              "        const docLink = document.createElement('div');\n",
              "        docLink.innerHTML = docLinkHtml;\n",
              "        element.appendChild(docLink);\n",
              "      }\n",
              "    </script>\n",
              "  </div>\n",
              "\n",
              "\n",
              "<div id=\"df-87eb64c3-4872-4835-b043-982b386a2254\">\n",
              "  <button class=\"colab-df-quickchart\" onclick=\"quickchart('df-87eb64c3-4872-4835-b043-982b386a2254')\"\n",
              "            title=\"Suggest charts\"\n",
              "            style=\"display:none;\">\n",
              "\n",
              "<svg xmlns=\"http://www.w3.org/2000/svg\" height=\"24px\"viewBox=\"0 0 24 24\"\n",
              "     width=\"24px\">\n",
              "    <g>\n",
              "        <path d=\"M19 3H5c-1.1 0-2 .9-2 2v14c0 1.1.9 2 2 2h14c1.1 0 2-.9 2-2V5c0-1.1-.9-2-2-2zM9 17H7v-7h2v7zm4 0h-2V7h2v10zm4 0h-2v-4h2v4z\"/>\n",
              "    </g>\n",
              "</svg>\n",
              "  </button>\n",
              "\n",
              "<style>\n",
              "  .colab-df-quickchart {\n",
              "      --bg-color: #E8F0FE;\n",
              "      --fill-color: #1967D2;\n",
              "      --hover-bg-color: #E2EBFA;\n",
              "      --hover-fill-color: #174EA6;\n",
              "      --disabled-fill-color: #AAA;\n",
              "      --disabled-bg-color: #DDD;\n",
              "  }\n",
              "\n",
              "  [theme=dark] .colab-df-quickchart {\n",
              "      --bg-color: #3B4455;\n",
              "      --fill-color: #D2E3FC;\n",
              "      --hover-bg-color: #434B5C;\n",
              "      --hover-fill-color: #FFFFFF;\n",
              "      --disabled-bg-color: #3B4455;\n",
              "      --disabled-fill-color: #666;\n",
              "  }\n",
              "\n",
              "  .colab-df-quickchart {\n",
              "    background-color: var(--bg-color);\n",
              "    border: none;\n",
              "    border-radius: 50%;\n",
              "    cursor: pointer;\n",
              "    display: none;\n",
              "    fill: var(--fill-color);\n",
              "    height: 32px;\n",
              "    padding: 0;\n",
              "    width: 32px;\n",
              "  }\n",
              "\n",
              "  .colab-df-quickchart:hover {\n",
              "    background-color: var(--hover-bg-color);\n",
              "    box-shadow: 0 1px 2px rgba(60, 64, 67, 0.3), 0 1px 3px 1px rgba(60, 64, 67, 0.15);\n",
              "    fill: var(--button-hover-fill-color);\n",
              "  }\n",
              "\n",
              "  .colab-df-quickchart-complete:disabled,\n",
              "  .colab-df-quickchart-complete:disabled:hover {\n",
              "    background-color: var(--disabled-bg-color);\n",
              "    fill: var(--disabled-fill-color);\n",
              "    box-shadow: none;\n",
              "  }\n",
              "\n",
              "  .colab-df-spinner {\n",
              "    border: 2px solid var(--fill-color);\n",
              "    border-color: transparent;\n",
              "    border-bottom-color: var(--fill-color);\n",
              "    animation:\n",
              "      spin 1s steps(1) infinite;\n",
              "  }\n",
              "\n",
              "  @keyframes spin {\n",
              "    0% {\n",
              "      border-color: transparent;\n",
              "      border-bottom-color: var(--fill-color);\n",
              "      border-left-color: var(--fill-color);\n",
              "    }\n",
              "    20% {\n",
              "      border-color: transparent;\n",
              "      border-left-color: var(--fill-color);\n",
              "      border-top-color: var(--fill-color);\n",
              "    }\n",
              "    30% {\n",
              "      border-color: transparent;\n",
              "      border-left-color: var(--fill-color);\n",
              "      border-top-color: var(--fill-color);\n",
              "      border-right-color: var(--fill-color);\n",
              "    }\n",
              "    40% {\n",
              "      border-color: transparent;\n",
              "      border-right-color: var(--fill-color);\n",
              "      border-top-color: var(--fill-color);\n",
              "    }\n",
              "    60% {\n",
              "      border-color: transparent;\n",
              "      border-right-color: var(--fill-color);\n",
              "    }\n",
              "    80% {\n",
              "      border-color: transparent;\n",
              "      border-right-color: var(--fill-color);\n",
              "      border-bottom-color: var(--fill-color);\n",
              "    }\n",
              "    90% {\n",
              "      border-color: transparent;\n",
              "      border-bottom-color: var(--fill-color);\n",
              "    }\n",
              "  }\n",
              "</style>\n",
              "\n",
              "  <script>\n",
              "    async function quickchart(key) {\n",
              "      const quickchartButtonEl =\n",
              "        document.querySelector('#' + key + ' button');\n",
              "      quickchartButtonEl.disabled = true;  // To prevent multiple clicks.\n",
              "      quickchartButtonEl.classList.add('colab-df-spinner');\n",
              "      try {\n",
              "        const charts = await google.colab.kernel.invokeFunction(\n",
              "            'suggestCharts', [key], {});\n",
              "      } catch (error) {\n",
              "        console.error('Error during call to suggestCharts:', error);\n",
              "      }\n",
              "      quickchartButtonEl.classList.remove('colab-df-spinner');\n",
              "      quickchartButtonEl.classList.add('colab-df-quickchart-complete');\n",
              "    }\n",
              "    (() => {\n",
              "      let quickchartButtonEl =\n",
              "        document.querySelector('#df-87eb64c3-4872-4835-b043-982b386a2254 button');\n",
              "      quickchartButtonEl.style.display =\n",
              "        google.colab.kernel.accessAllowed ? 'block' : 'none';\n",
              "    })();\n",
              "  </script>\n",
              "</div>\n",
              "    </div>\n",
              "  </div>\n"
            ]
          },
          "metadata": {},
          "execution_count": 6
        }
      ]
    },
    {
      "cell_type": "code",
      "source": [
        "df.tail()"
      ],
      "metadata": {
        "colab": {
          "base_uri": "https://localhost:8080/",
          "height": 237
        },
        "id": "tN5gY6Elh9wy",
        "outputId": "f224022e-93bc-4e49-edd1-29084d47981d"
      },
      "execution_count": null,
      "outputs": [
        {
          "output_type": "execute_result",
          "data": {
            "text/plain": [
              "                                   close    high      low    open    volume  \\\n",
              "symbol date                                                                   \n",
              "AAPL   2023-12-06 00:00:00+00:00  192.32  194.76  192.110  194.45  40895115   \n",
              "       2023-12-07 00:00:00+00:00  194.27  195.00  193.590  193.63  47477655   \n",
              "       2023-12-08 00:00:00+00:00  195.71  195.99  193.670  194.20  53406358   \n",
              "       2023-12-11 00:00:00+00:00  193.18  193.49  191.420  193.11  60943699   \n",
              "       2023-12-12 00:00:00+00:00  194.71  194.72  191.721  193.08  52696900   \n",
              "\n",
              "                                  adjClose  adjHigh   adjLow  adjOpen  \\\n",
              "symbol date                                                             \n",
              "AAPL   2023-12-06 00:00:00+00:00    192.32   194.76  192.110   194.45   \n",
              "       2023-12-07 00:00:00+00:00    194.27   195.00  193.590   193.63   \n",
              "       2023-12-08 00:00:00+00:00    195.71   195.99  193.670   194.20   \n",
              "       2023-12-11 00:00:00+00:00    193.18   193.49  191.420   193.11   \n",
              "       2023-12-12 00:00:00+00:00    194.71   194.72  191.721   193.08   \n",
              "\n",
              "                                  adjVolume  divCash  splitFactor  \n",
              "symbol date                                                        \n",
              "AAPL   2023-12-06 00:00:00+00:00   40895115      0.0          1.0  \n",
              "       2023-12-07 00:00:00+00:00   47477655      0.0          1.0  \n",
              "       2023-12-08 00:00:00+00:00   53406358      0.0          1.0  \n",
              "       2023-12-11 00:00:00+00:00   60943699      0.0          1.0  \n",
              "       2023-12-12 00:00:00+00:00   52696900      0.0          1.0  "
            ],
            "text/html": [
              "\n",
              "  <div id=\"df-37f552d5-4221-4ebd-b651-7b1d8b506ed9\" class=\"colab-df-container\">\n",
              "    <div>\n",
              "<style scoped>\n",
              "    .dataframe tbody tr th:only-of-type {\n",
              "        vertical-align: middle;\n",
              "    }\n",
              "\n",
              "    .dataframe tbody tr th {\n",
              "        vertical-align: top;\n",
              "    }\n",
              "\n",
              "    .dataframe thead th {\n",
              "        text-align: right;\n",
              "    }\n",
              "</style>\n",
              "<table border=\"1\" class=\"dataframe\">\n",
              "  <thead>\n",
              "    <tr style=\"text-align: right;\">\n",
              "      <th></th>\n",
              "      <th></th>\n",
              "      <th>close</th>\n",
              "      <th>high</th>\n",
              "      <th>low</th>\n",
              "      <th>open</th>\n",
              "      <th>volume</th>\n",
              "      <th>adjClose</th>\n",
              "      <th>adjHigh</th>\n",
              "      <th>adjLow</th>\n",
              "      <th>adjOpen</th>\n",
              "      <th>adjVolume</th>\n",
              "      <th>divCash</th>\n",
              "      <th>splitFactor</th>\n",
              "    </tr>\n",
              "    <tr>\n",
              "      <th>symbol</th>\n",
              "      <th>date</th>\n",
              "      <th></th>\n",
              "      <th></th>\n",
              "      <th></th>\n",
              "      <th></th>\n",
              "      <th></th>\n",
              "      <th></th>\n",
              "      <th></th>\n",
              "      <th></th>\n",
              "      <th></th>\n",
              "      <th></th>\n",
              "      <th></th>\n",
              "      <th></th>\n",
              "    </tr>\n",
              "  </thead>\n",
              "  <tbody>\n",
              "    <tr>\n",
              "      <th rowspan=\"5\" valign=\"top\">AAPL</th>\n",
              "      <th>2023-12-06 00:00:00+00:00</th>\n",
              "      <td>192.32</td>\n",
              "      <td>194.76</td>\n",
              "      <td>192.110</td>\n",
              "      <td>194.45</td>\n",
              "      <td>40895115</td>\n",
              "      <td>192.32</td>\n",
              "      <td>194.76</td>\n",
              "      <td>192.110</td>\n",
              "      <td>194.45</td>\n",
              "      <td>40895115</td>\n",
              "      <td>0.0</td>\n",
              "      <td>1.0</td>\n",
              "    </tr>\n",
              "    <tr>\n",
              "      <th>2023-12-07 00:00:00+00:00</th>\n",
              "      <td>194.27</td>\n",
              "      <td>195.00</td>\n",
              "      <td>193.590</td>\n",
              "      <td>193.63</td>\n",
              "      <td>47477655</td>\n",
              "      <td>194.27</td>\n",
              "      <td>195.00</td>\n",
              "      <td>193.590</td>\n",
              "      <td>193.63</td>\n",
              "      <td>47477655</td>\n",
              "      <td>0.0</td>\n",
              "      <td>1.0</td>\n",
              "    </tr>\n",
              "    <tr>\n",
              "      <th>2023-12-08 00:00:00+00:00</th>\n",
              "      <td>195.71</td>\n",
              "      <td>195.99</td>\n",
              "      <td>193.670</td>\n",
              "      <td>194.20</td>\n",
              "      <td>53406358</td>\n",
              "      <td>195.71</td>\n",
              "      <td>195.99</td>\n",
              "      <td>193.670</td>\n",
              "      <td>194.20</td>\n",
              "      <td>53406358</td>\n",
              "      <td>0.0</td>\n",
              "      <td>1.0</td>\n",
              "    </tr>\n",
              "    <tr>\n",
              "      <th>2023-12-11 00:00:00+00:00</th>\n",
              "      <td>193.18</td>\n",
              "      <td>193.49</td>\n",
              "      <td>191.420</td>\n",
              "      <td>193.11</td>\n",
              "      <td>60943699</td>\n",
              "      <td>193.18</td>\n",
              "      <td>193.49</td>\n",
              "      <td>191.420</td>\n",
              "      <td>193.11</td>\n",
              "      <td>60943699</td>\n",
              "      <td>0.0</td>\n",
              "      <td>1.0</td>\n",
              "    </tr>\n",
              "    <tr>\n",
              "      <th>2023-12-12 00:00:00+00:00</th>\n",
              "      <td>194.71</td>\n",
              "      <td>194.72</td>\n",
              "      <td>191.721</td>\n",
              "      <td>193.08</td>\n",
              "      <td>52696900</td>\n",
              "      <td>194.71</td>\n",
              "      <td>194.72</td>\n",
              "      <td>191.721</td>\n",
              "      <td>193.08</td>\n",
              "      <td>52696900</td>\n",
              "      <td>0.0</td>\n",
              "      <td>1.0</td>\n",
              "    </tr>\n",
              "  </tbody>\n",
              "</table>\n",
              "</div>\n",
              "    <div class=\"colab-df-buttons\">\n",
              "\n",
              "  <div class=\"colab-df-container\">\n",
              "    <button class=\"colab-df-convert\" onclick=\"convertToInteractive('df-37f552d5-4221-4ebd-b651-7b1d8b506ed9')\"\n",
              "            title=\"Convert this dataframe to an interactive table.\"\n",
              "            style=\"display:none;\">\n",
              "\n",
              "  <svg xmlns=\"http://www.w3.org/2000/svg\" height=\"24px\" viewBox=\"0 -960 960 960\">\n",
              "    <path d=\"M120-120v-720h720v720H120Zm60-500h600v-160H180v160Zm220 220h160v-160H400v160Zm0 220h160v-160H400v160ZM180-400h160v-160H180v160Zm440 0h160v-160H620v160ZM180-180h160v-160H180v160Zm440 0h160v-160H620v160Z\"/>\n",
              "  </svg>\n",
              "    </button>\n",
              "\n",
              "  <style>\n",
              "    .colab-df-container {\n",
              "      display:flex;\n",
              "      gap: 12px;\n",
              "    }\n",
              "\n",
              "    .colab-df-convert {\n",
              "      background-color: #E8F0FE;\n",
              "      border: none;\n",
              "      border-radius: 50%;\n",
              "      cursor: pointer;\n",
              "      display: none;\n",
              "      fill: #1967D2;\n",
              "      height: 32px;\n",
              "      padding: 0 0 0 0;\n",
              "      width: 32px;\n",
              "    }\n",
              "\n",
              "    .colab-df-convert:hover {\n",
              "      background-color: #E2EBFA;\n",
              "      box-shadow: 0px 1px 2px rgba(60, 64, 67, 0.3), 0px 1px 3px 1px rgba(60, 64, 67, 0.15);\n",
              "      fill: #174EA6;\n",
              "    }\n",
              "\n",
              "    .colab-df-buttons div {\n",
              "      margin-bottom: 4px;\n",
              "    }\n",
              "\n",
              "    [theme=dark] .colab-df-convert {\n",
              "      background-color: #3B4455;\n",
              "      fill: #D2E3FC;\n",
              "    }\n",
              "\n",
              "    [theme=dark] .colab-df-convert:hover {\n",
              "      background-color: #434B5C;\n",
              "      box-shadow: 0px 1px 3px 1px rgba(0, 0, 0, 0.15);\n",
              "      filter: drop-shadow(0px 1px 2px rgba(0, 0, 0, 0.3));\n",
              "      fill: #FFFFFF;\n",
              "    }\n",
              "  </style>\n",
              "\n",
              "    <script>\n",
              "      const buttonEl =\n",
              "        document.querySelector('#df-37f552d5-4221-4ebd-b651-7b1d8b506ed9 button.colab-df-convert');\n",
              "      buttonEl.style.display =\n",
              "        google.colab.kernel.accessAllowed ? 'block' : 'none';\n",
              "\n",
              "      async function convertToInteractive(key) {\n",
              "        const element = document.querySelector('#df-37f552d5-4221-4ebd-b651-7b1d8b506ed9');\n",
              "        const dataTable =\n",
              "          await google.colab.kernel.invokeFunction('convertToInteractive',\n",
              "                                                    [key], {});\n",
              "        if (!dataTable) return;\n",
              "\n",
              "        const docLinkHtml = 'Like what you see? Visit the ' +\n",
              "          '<a target=\"_blank\" href=https://colab.research.google.com/notebooks/data_table.ipynb>data table notebook</a>'\n",
              "          + ' to learn more about interactive tables.';\n",
              "        element.innerHTML = '';\n",
              "        dataTable['output_type'] = 'display_data';\n",
              "        await google.colab.output.renderOutput(dataTable, element);\n",
              "        const docLink = document.createElement('div');\n",
              "        docLink.innerHTML = docLinkHtml;\n",
              "        element.appendChild(docLink);\n",
              "      }\n",
              "    </script>\n",
              "  </div>\n",
              "\n",
              "\n",
              "<div id=\"df-4c6a4510-574b-44f9-bf36-d453aa9d341a\">\n",
              "  <button class=\"colab-df-quickchart\" onclick=\"quickchart('df-4c6a4510-574b-44f9-bf36-d453aa9d341a')\"\n",
              "            title=\"Suggest charts\"\n",
              "            style=\"display:none;\">\n",
              "\n",
              "<svg xmlns=\"http://www.w3.org/2000/svg\" height=\"24px\"viewBox=\"0 0 24 24\"\n",
              "     width=\"24px\">\n",
              "    <g>\n",
              "        <path d=\"M19 3H5c-1.1 0-2 .9-2 2v14c0 1.1.9 2 2 2h14c1.1 0 2-.9 2-2V5c0-1.1-.9-2-2-2zM9 17H7v-7h2v7zm4 0h-2V7h2v10zm4 0h-2v-4h2v4z\"/>\n",
              "    </g>\n",
              "</svg>\n",
              "  </button>\n",
              "\n",
              "<style>\n",
              "  .colab-df-quickchart {\n",
              "      --bg-color: #E8F0FE;\n",
              "      --fill-color: #1967D2;\n",
              "      --hover-bg-color: #E2EBFA;\n",
              "      --hover-fill-color: #174EA6;\n",
              "      --disabled-fill-color: #AAA;\n",
              "      --disabled-bg-color: #DDD;\n",
              "  }\n",
              "\n",
              "  [theme=dark] .colab-df-quickchart {\n",
              "      --bg-color: #3B4455;\n",
              "      --fill-color: #D2E3FC;\n",
              "      --hover-bg-color: #434B5C;\n",
              "      --hover-fill-color: #FFFFFF;\n",
              "      --disabled-bg-color: #3B4455;\n",
              "      --disabled-fill-color: #666;\n",
              "  }\n",
              "\n",
              "  .colab-df-quickchart {\n",
              "    background-color: var(--bg-color);\n",
              "    border: none;\n",
              "    border-radius: 50%;\n",
              "    cursor: pointer;\n",
              "    display: none;\n",
              "    fill: var(--fill-color);\n",
              "    height: 32px;\n",
              "    padding: 0;\n",
              "    width: 32px;\n",
              "  }\n",
              "\n",
              "  .colab-df-quickchart:hover {\n",
              "    background-color: var(--hover-bg-color);\n",
              "    box-shadow: 0 1px 2px rgba(60, 64, 67, 0.3), 0 1px 3px 1px rgba(60, 64, 67, 0.15);\n",
              "    fill: var(--button-hover-fill-color);\n",
              "  }\n",
              "\n",
              "  .colab-df-quickchart-complete:disabled,\n",
              "  .colab-df-quickchart-complete:disabled:hover {\n",
              "    background-color: var(--disabled-bg-color);\n",
              "    fill: var(--disabled-fill-color);\n",
              "    box-shadow: none;\n",
              "  }\n",
              "\n",
              "  .colab-df-spinner {\n",
              "    border: 2px solid var(--fill-color);\n",
              "    border-color: transparent;\n",
              "    border-bottom-color: var(--fill-color);\n",
              "    animation:\n",
              "      spin 1s steps(1) infinite;\n",
              "  }\n",
              "\n",
              "  @keyframes spin {\n",
              "    0% {\n",
              "      border-color: transparent;\n",
              "      border-bottom-color: var(--fill-color);\n",
              "      border-left-color: var(--fill-color);\n",
              "    }\n",
              "    20% {\n",
              "      border-color: transparent;\n",
              "      border-left-color: var(--fill-color);\n",
              "      border-top-color: var(--fill-color);\n",
              "    }\n",
              "    30% {\n",
              "      border-color: transparent;\n",
              "      border-left-color: var(--fill-color);\n",
              "      border-top-color: var(--fill-color);\n",
              "      border-right-color: var(--fill-color);\n",
              "    }\n",
              "    40% {\n",
              "      border-color: transparent;\n",
              "      border-right-color: var(--fill-color);\n",
              "      border-top-color: var(--fill-color);\n",
              "    }\n",
              "    60% {\n",
              "      border-color: transparent;\n",
              "      border-right-color: var(--fill-color);\n",
              "    }\n",
              "    80% {\n",
              "      border-color: transparent;\n",
              "      border-right-color: var(--fill-color);\n",
              "      border-bottom-color: var(--fill-color);\n",
              "    }\n",
              "    90% {\n",
              "      border-color: transparent;\n",
              "      border-bottom-color: var(--fill-color);\n",
              "    }\n",
              "  }\n",
              "</style>\n",
              "\n",
              "  <script>\n",
              "    async function quickchart(key) {\n",
              "      const quickchartButtonEl =\n",
              "        document.querySelector('#' + key + ' button');\n",
              "      quickchartButtonEl.disabled = true;  // To prevent multiple clicks.\n",
              "      quickchartButtonEl.classList.add('colab-df-spinner');\n",
              "      try {\n",
              "        const charts = await google.colab.kernel.invokeFunction(\n",
              "            'suggestCharts', [key], {});\n",
              "      } catch (error) {\n",
              "        console.error('Error during call to suggestCharts:', error);\n",
              "      }\n",
              "      quickchartButtonEl.classList.remove('colab-df-spinner');\n",
              "      quickchartButtonEl.classList.add('colab-df-quickchart-complete');\n",
              "    }\n",
              "    (() => {\n",
              "      let quickchartButtonEl =\n",
              "        document.querySelector('#df-4c6a4510-574b-44f9-bf36-d453aa9d341a button');\n",
              "      quickchartButtonEl.style.display =\n",
              "        google.colab.kernel.accessAllowed ? 'block' : 'none';\n",
              "    })();\n",
              "  </script>\n",
              "</div>\n",
              "    </div>\n",
              "  </div>\n"
            ]
          },
          "metadata": {},
          "execution_count": 7
        }
      ]
    },
    {
      "cell_type": "code",
      "source": [
        "df2= df.reset_index()['close']\n",
        "#this means by reset index we have all colourm data, and when we specify what do we want then we get the close coloumn"
      ],
      "metadata": {
        "id": "dnkaIxG-iQpC"
      },
      "execution_count": null,
      "outputs": []
    },
    {
      "cell_type": "code",
      "source": [
        "df2.shape"
      ],
      "metadata": {
        "colab": {
          "base_uri": "https://localhost:8080/"
        },
        "id": "7J-jqdjhih3A",
        "outputId": "5814276e-39f3-452f-ba52-6089f18dcc68"
      },
      "execution_count": null,
      "outputs": [
        {
          "output_type": "execute_result",
          "data": {
            "text/plain": [
              "(1257, 14)"
            ]
          },
          "metadata": {},
          "execution_count": 16
        }
      ]
    },
    {
      "cell_type": "code",
      "source": [
        "import matplotlib.pyplot as plt\n",
        "plt.plot(df2)"
      ],
      "metadata": {
        "colab": {
          "base_uri": "https://localhost:8080/",
          "height": 448
        },
        "id": "0p4e5kxTilkV",
        "outputId": "4eb491b1-4ba6-4df7-d7e0-119f076e39c8"
      },
      "execution_count": null,
      "outputs": [
        {
          "output_type": "execute_result",
          "data": {
            "text/plain": [
              "[<matplotlib.lines.Line2D at 0x78550af0e260>]"
            ]
          },
          "metadata": {},
          "execution_count": 18
        },
        {
          "output_type": "display_data",
          "data": {
            "text/plain": [
              "<Figure size 640x480 with 1 Axes>"
            ],
            "image/png": "[encoded data removed]"
          },
          "metadata": {}
        }
      ]
    },
    {
      "cell_type": "code",
      "source": [
        "#LSTM sensitive to scale hence transformation is required for them\n",
        "\n",
        "\n",
        "import numpy as np\n",
        "from sklearn.preprocessing import MinMaxScaler\n",
        "scaler= MinMaxScaler(feature_range=(0,1))   #to scale the data set\n",
        "df2= scaler.fit_transform(np.array(df2).reshape(-1,1))\n"
      ],
      "metadata": {
        "id": "pZ8GDtFii46e"
      },
      "execution_count": null,
      "outputs": []
    },
    {
      "cell_type": "code",
      "source": [
        "df2.shape"
      ],
      "metadata": {
        "colab": {
          "base_uri": "https://localhost:8080/"
        },
        "id": "fY-60tb_k92r",
        "outputId": "a97a00a2-8352-4967-a344-ef401f87ba55"
      },
      "execution_count": null,
      "outputs": [
        {
          "output_type": "execute_result",
          "data": {
            "text/plain": [
              "(1257, 1)"
            ]
          },
          "metadata": {},
          "execution_count": 21
        }
      ]
    },
    {
      "cell_type": "code",
      "source": [
        "df2"
      ],
      "metadata": {
        "colab": {
          "base_uri": "https://localhost:8080/"
        },
        "id": "SzcyclcilI6W",
        "outputId": "80cb3094-1fe1-44b6-ae40-0bb807235291"
      },
      "execution_count": null,
      "outputs": [
        {
          "output_type": "execute_result",
          "data": {
            "text/plain": [
              "array([[0.14687539],\n",
              "       [0.14301816],\n",
              "       [0.14835316],\n",
              "       ...,\n",
              "       [0.22259236],\n",
              "       [0.21625548],\n",
              "       [0.22008766]])"
            ]
          },
          "metadata": {},
          "execution_count": 22
        }
      ]
    },
    {
      "cell_type": "code",
      "source": [
        "#this is how this gets transformed from 0 to 1"
      ],
      "metadata": {
        "id": "qYOkK_dalKxd"
      },
      "execution_count": null,
      "outputs": []
    },
    {
      "cell_type": "code",
      "source": [
        "plt.plot(df2)"
      ],
      "metadata": {
        "colab": {
          "base_uri": "https://localhost:8080/",
          "height": 448
        },
        "id": "7cu_Zp7AlPgx",
        "outputId": "aafbb88a-c64f-46b3-df29-b2bfdf1e0a63"
      },
      "execution_count": null,
      "outputs": [
        {
          "output_type": "execute_result",
          "data": {
            "text/plain": [
              "[<matplotlib.lines.Line2D at 0x78550b084970>]"
            ]
          },
          "metadata": {},
          "execution_count": 24
        },
        {
          "output_type": "display_data",
          "data": {
            "text/plain": [
              "<Figure size 640x480 with 1 Axes>"
            ],
            "image/png": "[encoded data removed]"
          },
          "metadata": {}
        }
      ]
    },
    {
      "cell_type": "code",
      "source": [
        "#Notice that the graph is exactly the same, just the scaling has changed\n"
      ],
      "metadata": {
        "id": "FFekPY3AlV5a"
      },
      "execution_count": null,
      "outputs": []
    },
    {
      "cell_type": "code",
      "source": [
        "#now we have to split the data set into train and test data\n",
        "\n",
        "training_size = int(len(df2)*0.65)\n",
        "test_size = len(df2)- training_size\n",
        "train_data, test_data= df2[0:training_size,:], df2[training_size: len(df2),:1]"
      ],
      "metadata": {
        "id": "EplAuOhVmg08"
      },
      "execution_count": null,
      "outputs": []
    },
    {
      "cell_type": "code",
      "source": [
        "train_data.shape, test_data.shape, df.shape"
      ],
      "metadata": {
        "colab": {
          "base_uri": "https://localhost:8080/"
        },
        "id": "0LnisX1s0237",
        "outputId": "76e60454-359d-4bc2-a235-6b6440ff875a"
      },
      "execution_count": null,
      "outputs": [
        {
          "output_type": "execute_result",
          "data": {
            "text/plain": [
              "((817, 1), (440, 1), (1257, 12))"
            ]
          },
          "metadata": {},
          "execution_count": 51
        }
      ]
    },
    {
      "cell_type": "code",
      "source": [
        "# X will be t, t+1...t+n-1 and Y will be t"
      ],
      "metadata": {
        "id": "ITeYku2AnLrW"
      },
      "execution_count": null,
      "outputs": []
    },
    {
      "cell_type": "code",
      "source": [
        "#This is pretty much the norm in the time series data sets\n",
        "import numpy as np\n",
        "def create_dataset(dataset , time_steps=1 ):\n",
        "  dataX, dataY= [], []\n",
        "  for i in range(len(dataset)-1 - time_steps):\n",
        "    a= dataset[i:(i+time_steps),0]\n",
        "    dataX.append(a)\n",
        "    dataY.append(dataset[i+time_steps, 0])\n",
        "  return np.array(dataX), np.array(dataY)\n",
        "\n",
        "\n",
        "\n",
        "time_steps=100\n",
        "\n",
        "X_train, Y_train = create_dataset(train_data, time_steps)\n",
        "X_test, Y_test= create_dataset(test_data , time_steps)"
      ],
      "metadata": {
        "id": "T-vJW8nlpPAN"
      },
      "execution_count": null,
      "outputs": []
    },
    {
      "cell_type": "code",
      "source": [
        "print(X_train)\n"
      ],
      "metadata": {
        "colab": {
          "base_uri": "https://localhost:8080/"
        },
        "id": "NhiYOXEVrFxW",
        "outputId": "ec153113-fed3-44e7-f693-e542a8665c7b"
      },
      "execution_count": null,
      "outputs": [
        {
          "output_type": "stream",
          "name": "stdout",
          "text": [
            "[[0.14687539 0.14301816 0.14835316 ... 0.24050094 0.24060113 0.23514089]\n",
            " [0.14301816 0.14835316 0.13537884 ... 0.24060113 0.23514089 0.22627426]\n",
            " [0.14835316 0.13537884 0.12520977 ... 0.23514089 0.22627426 0.19757044]\n",
            " ...\n",
            " [0.09247339 0.09517846 0.09946149 ... 0.14108954 0.13139637 0.12673763]\n",
            " [0.09517846 0.09946149 0.10499687 ... 0.13139637 0.12673763 0.14053851]\n",
            " [0.09946149 0.10499687 0.10624922 ... 0.12673763 0.14053851 0.12944271]]\n"
          ]
        }
      ]
    },
    {
      "cell_type": "code",
      "source": [
        "X_train.shape, Y_train.shape, X_test.shape, Y_test.shape"
      ],
      "metadata": {
        "colab": {
          "base_uri": "https://localhost:8080/"
        },
        "id": "YiDRkrCgrlZE",
        "outputId": "3b309cb4-4833-4f81-8826-ae940fa14000"
      },
      "execution_count": null,
      "outputs": [
        {
          "output_type": "execute_result",
          "data": {
            "text/plain": [
              "((716, 100), (716,), (339, 100), (339,))"
            ]
          },
          "metadata": {},
          "execution_count": 54
        }
      ]
    },
    {
      "cell_type": "markdown",
      "source": [
        "**NOW WE WILL CREATE A STACKED LSTM MODEL **"
      ],
      "metadata": {
        "id": "I0CHVzKlruwy"
      }
    },
    {
      "cell_type": "code",
      "source": [
        "#for the lstm model we need to reshape the two dimensional array into 3 dimensional entity\n",
        "\n",
        "X_train= X_train.reshape(X_train.shape[0],X_train.shape[1],1)\n",
        "\n",
        "X_test = X_test.reshape(X_test.shape[0],X_test.shape[1],1)"
      ],
      "metadata": {
        "id": "WSp0jtVIrplI"
      },
      "execution_count": null,
      "outputs": []
    },
    {
      "cell_type": "code",
      "source": [
        "#Create a Stacked LSTM model\n",
        "!pip install tensorflow\n",
        "from tensorflow.keras.models import Sequential\n",
        "from tensorflow.keras.layers import Dense\n",
        "from tensorflow.keras.layers import LSTM\n",
        "\n",
        "\n"
      ],
      "metadata": {
        "colab": {
          "base_uri": "https://localhost:8080/"
        },
        "id": "xkzmgrdRsvyp",
        "outputId": "32f1e85f-6baa-4921-b2b1-0d036e7cc994"
      },
      "execution_count": null,
      "outputs": [
        {
          "output_type": "stream",
          "name": "stdout",
          "text": [
            "Requirement already satisfied: tensorflow in /usr/local/lib/python3.10/dist-packages (2.14.0)\n",
            "Requirement already satisfied: absl-py>=1.0.0 in /usr/local/lib/python3.10/dist-packages (from tensorflow) (1.4.0)\n",
            "Requirement already satisfied: astunparse>=1.6.0 in /usr/local/lib/python3.10/dist-packages (from tensorflow) (1.6.3)\n",
            "Requirement already satisfied: flatbuffers>=23.5.26 in /usr/local/lib/python3.10/dist-packages (from tensorflow) (23.5.26)\n",
            "Requirement already satisfied: gast!=0.5.0,!=0.5.1,!=0.5.2,>=0.2.1 in /usr/local/lib/python3.10/dist-packages (from tensorflow) (0.5.4)\n",
            "Requirement already satisfied: google-pasta>=0.1.1 in /usr/local/lib/python3.10/dist-packages (from tensorflow) (0.2.0)\n",
            "Requirement already satisfied: h5py>=2.9.0 in /usr/local/lib/python3.10/dist-packages (from tensorflow) (3.9.0)\n",
            "Requirement already satisfied: libclang>=13.0.0 in /usr/local/lib/python3.10/dist-packages (from tensorflow) (16.0.6)\n",
            "Requirement already satisfied: ml-dtypes==0.2.0 in /usr/local/lib/python3.10/dist-packages (from tensorflow) (0.2.0)\n",
            "Requirement already satisfied: numpy>=1.23.5 in /usr/local/lib/python3.10/dist-packages (from tensorflow) (1.23.5)\n",
            "Requirement already satisfied: opt-einsum>=2.3.2 in /usr/local/lib/python3.10/dist-packages (from tensorflow) (3.3.0)\n",
            "Requirement already satisfied: packaging in /usr/local/lib/python3.10/dist-packages (from tensorflow) (23.2)\n",
            "Requirement already satisfied: protobuf!=4.21.0,!=4.21.1,!=4.21.2,!=4.21.3,!=4.21.4,!=4.21.5,<5.0.0dev,>=3.20.3 in /usr/local/lib/python3.10/dist-packages (from tensorflow) (3.20.3)\n",
            "Requirement already satisfied: setuptools in /usr/local/lib/python3.10/dist-packages (from tensorflow) (67.7.2)\n",
            "Requirement already satisfied: six>=1.12.0 in /usr/local/lib/python3.10/dist-packages (from tensorflow) (1.16.0)\n",
            "Requirement already satisfied: termcolor>=1.1.0 in /usr/local/lib/python3.10/dist-packages (from tensorflow) (2.4.0)\n",
            "Requirement already satisfied: typing-extensions>=3.6.6 in /usr/local/lib/python3.10/dist-packages (from tensorflow) (4.5.0)\n",
            "Requirement already satisfied: wrapt<1.15,>=1.11.0 in /usr/local/lib/python3.10/dist-packages (from tensorflow) (1.14.1)\n",
            "Requirement already satisfied: tensorflow-io-gcs-filesystem>=0.23.1 in /usr/local/lib/python3.10/dist-packages (from tensorflow) (0.34.0)\n",
            "Requirement already satisfied: grpcio<2.0,>=1.24.3 in /usr/local/lib/python3.10/dist-packages (from tensorflow) (1.59.3)\n",
            "Requirement already satisfied: tensorboard<2.15,>=2.14 in /usr/local/lib/python3.10/dist-packages (from tensorflow) (2.14.1)\n",
            "Requirement already satisfied: tensorflow-estimator<2.15,>=2.14.0 in /usr/local/lib/python3.10/dist-packages (from tensorflow) (2.14.0)\n",
            "Requirement already satisfied: keras<2.15,>=2.14.0 in /usr/local/lib/python3.10/dist-packages (from tensorflow) (2.14.0)\n",
            "Requirement already satisfied: wheel<1.0,>=0.23.0 in /usr/local/lib/python3.10/dist-packages (from astunparse>=1.6.0->tensorflow) (0.42.0)\n",
            "Requirement already satisfied: google-auth<3,>=1.6.3 in /usr/local/lib/python3.10/dist-packages (from tensorboard<2.15,>=2.14->tensorflow) (2.17.3)\n",
            "Requirement already satisfied: google-auth-oauthlib<1.1,>=0.5 in /usr/local/lib/python3.10/dist-packages (from tensorboard<2.15,>=2.14->tensorflow) (1.0.0)\n",
            "Requirement already satisfied: markdown>=2.6.8 in /usr/local/lib/python3.10/dist-packages (from tensorboard<2.15,>=2.14->tensorflow) (3.5.1)\n",
            "Requirement already satisfied: requests<3,>=2.21.0 in /usr/local/lib/python3.10/dist-packages (from tensorboard<2.15,>=2.14->tensorflow) (2.31.0)\n",
            "Requirement already satisfied: tensorboard-data-server<0.8.0,>=0.7.0 in /usr/local/lib/python3.10/dist-packages (from tensorboard<2.15,>=2.14->tensorflow) (0.7.2)\n",
            "Requirement already satisfied: werkzeug>=1.0.1 in /usr/local/lib/python3.10/dist-packages (from tensorboard<2.15,>=2.14->tensorflow) (3.0.1)\n",
            "Requirement already satisfied: cachetools<6.0,>=2.0.0 in /usr/local/lib/python3.10/dist-packages (from google-auth<3,>=1.6.3->tensorboard<2.15,>=2.14->tensorflow) (5.3.2)\n",
            "Requirement already satisfied: pyasn1-modules>=0.2.1 in /usr/local/lib/python3.10/dist-packages (from google-auth<3,>=1.6.3->tensorboard<2.15,>=2.14->tensorflow) (0.3.0)\n",
            "Requirement already satisfied: rsa<5,>=3.1.4 in /usr/local/lib/python3.10/dist-packages (from google-auth<3,>=1.6.3->tensorboard<2.15,>=2.14->tensorflow) (4.9)\n",
            "Requirement already satisfied: requests-oauthlib>=0.7.0 in /usr/local/lib/python3.10/dist-packages (from google-auth-oauthlib<1.1,>=0.5->tensorboard<2.15,>=2.14->tensorflow) (1.3.1)\n",
            "Requirement already satisfied: charset-normalizer<4,>=2 in /usr/local/lib/python3.10/dist-packages (from requests<3,>=2.21.0->tensorboard<2.15,>=2.14->tensorflow) (3.3.2)\n",
            "Requirement already satisfied: idna<4,>=2.5 in /usr/local/lib/python3.10/dist-packages (from requests<3,>=2.21.0->tensorboard<2.15,>=2.14->tensorflow) (3.6)\n",
            "Requirement already satisfied: urllib3<3,>=1.21.1 in /usr/local/lib/python3.10/dist-packages (from requests<3,>=2.21.0->tensorboard<2.15,>=2.14->tensorflow) (2.0.7)\n",
            "Requirement already satisfied: certifi>=2017.4.17 in /usr/local/lib/python3.10/dist-packages (from requests<3,>=2.21.0->tensorboard<2.15,>=2.14->tensorflow) (2023.11.17)\n",
            "Requirement already satisfied: MarkupSafe>=2.1.1 in /usr/local/lib/python3.10/dist-packages (from werkzeug>=1.0.1->tensorboard<2.15,>=2.14->tensorflow) (2.1.3)\n",
            "Requirement already satisfied: pyasn1<0.6.0,>=0.4.6 in /usr/local/lib/python3.10/dist-packages (from pyasn1-modules>=0.2.1->google-auth<3,>=1.6.3->tensorboard<2.15,>=2.14->tensorflow) (0.5.1)\n",
            "Requirement already satisfied: oauthlib>=3.0.0 in /usr/local/lib/python3.10/dist-packages (from requests-oauthlib>=0.7.0->google-auth-oauthlib<1.1,>=0.5->tensorboard<2.15,>=2.14->tensorflow) (3.2.2)\n"
          ]
        }
      ]
    },
    {
      "cell_type": "code",
      "source": [
        "model = Sequential()\n",
        "\n",
        "model.add(LSTM(50, return_sequences= True ,input_shape=(100,1) ))\n",
        "model.add(LSTM(50, return_sequences= True))\n",
        "model.add(LSTM(50))\n",
        "model.add(Dense(1)) #added one final dense layer model , to give a single output\n",
        "model.compile(loss='mean_squared_error', optimizer='adam')\n"
      ],
      "metadata": {
        "id": "_cElq_natcth"
      },
      "execution_count": null,
      "outputs": []
    },
    {
      "cell_type": "code",
      "source": [
        "model.summary()\n"
      ],
      "metadata": {
        "colab": {
          "base_uri": "https://localhost:8080/"
        },
        "id": "5ogyMlESvMaf",
        "outputId": "e42182eb-d968-4bc6-8b41-33539597054d"
      },
      "execution_count": null,
      "outputs": [
        {
          "output_type": "stream",
          "name": "stdout",
          "text": [
            "Model: \"sequential\"\n",
            "_________________________________________________________________\n",
            " Layer (type)                Output Shape              Param #   \n",
            "=================================================================\n",
            " lstm (LSTM)                 (None, 100, 50)           10400     \n",
            "                                                                 \n",
            " lstm_1 (LSTM)               (None, 100, 50)           20200     \n",
            "                                                                 \n",
            " lstm_2 (LSTM)               (None, 50)                20200     \n",
            "                                                                 \n",
            " dense (Dense)               (None, 1)                 51        \n",
            "                                                                 \n",
            "=================================================================\n",
            "Total params: 50851 (198.64 KB)\n",
            "Trainable params: 50851 (198.64 KB)\n",
            "Non-trainable params: 0 (0.00 Byte)\n",
            "_________________________________________________________________\n"
          ]
        }
      ]
    },
    {
      "cell_type": "code",
      "source": [
        "## NOW WE HAVE TO FIT OUR DATA IN THE MODEL\n",
        "\n",
        "\n",
        "model.fit(X_train, Y_train , validation_data=(X_test, Y_test), epochs=100, batch_size= 64 , verbose =1 )"
      ],
      "metadata": {
        "colab": {
          "base_uri": "https://localhost:8080/"
        },
        "id": "MtUq4RDzvP-d",
        "outputId": "2b953fd7-fb7a-4f2e-d891-5f110bc8b8dc"
      },
      "execution_count": null,
      "outputs": [
        {
          "output_type": "stream",
          "name": "stdout",
          "text": [
            "Epoch 1/100\n",
            "12/12 [==============================] - 12s 356ms/step - loss: 0.0407 - val_loss: 0.0016\n",
            "Epoch 2/100\n",
            "12/12 [==============================] - 2s 197ms/step - loss: 0.0130 - val_loss: 0.0023\n",
            "Epoch 3/100\n",
            "12/12 [==============================] - 3s 226ms/step - loss: 0.0114 - val_loss: 5.0810e-04\n",
            "Epoch 4/100\n",
            "12/12 [==============================] - 4s 314ms/step - loss: 0.0090 - val_loss: 3.5849e-04\n",
            "Epoch 5/100\n",
            "12/12 [==============================] - 2s 200ms/step - loss: 0.0078 - val_loss: 2.7112e-04\n",
            "Epoch 6/100\n",
            "12/12 [==============================] - 2s 197ms/step - loss: 0.0074 - val_loss: 5.4534e-04\n",
            "Epoch 7/100\n",
            "12/12 [==============================] - 2s 197ms/step - loss: 0.0065 - val_loss: 4.1961e-04\n",
            "Epoch 8/100\n",
            "12/12 [==============================] - 2s 198ms/step - loss: 0.0057 - val_loss: 2.6966e-04\n",
            "Epoch 9/100\n",
            "12/12 [==============================] - 4s 318ms/step - loss: 0.0053 - val_loss: 5.4974e-04\n",
            "Epoch 10/100\n",
            "12/12 [==============================] - 2s 195ms/step - loss: 0.0059 - val_loss: 2.8715e-04\n",
            "Epoch 11/100\n",
            "12/12 [==============================] - 2s 195ms/step - loss: 0.0057 - val_loss: 3.5836e-04\n",
            "Epoch 12/100\n",
            "12/12 [==============================] - 2s 196ms/step - loss: 0.0048 - val_loss: 2.9329e-04\n",
            "Epoch 13/100\n",
            "12/12 [==============================] - 2s 194ms/step - loss: 0.0040 - val_loss: 4.6310e-04\n",
            "Epoch 14/100\n",
            "12/12 [==============================] - 4s 326ms/step - loss: 0.0042 - val_loss: 2.3466e-04\n",
            "Epoch 15/100\n",
            "12/12 [==============================] - 3s 228ms/step - loss: 0.0036 - val_loss: 4.7496e-04\n",
            "Epoch 16/100\n",
            "12/12 [==============================] - 2s 200ms/step - loss: 0.0035 - val_loss: 2.2159e-04\n",
            "Epoch 17/100\n",
            "12/12 [==============================] - 2s 198ms/step - loss: 0.0027 - val_loss: 2.4119e-04\n",
            "Epoch 18/100\n",
            "12/12 [==============================] - 2s 199ms/step - loss: 0.0029 - val_loss: 5.4254e-04\n",
            "Epoch 19/100\n",
            "12/12 [==============================] - 5s 478ms/step - loss: 0.0023 - val_loss: 2.5135e-04\n",
            "Epoch 20/100\n",
            "12/12 [==============================] - 2s 195ms/step - loss: 0.0026 - val_loss: 5.6682e-04\n",
            "Epoch 21/100\n",
            "12/12 [==============================] - 2s 196ms/step - loss: 0.0028 - val_loss: 2.1130e-04\n",
            "Epoch 22/100\n",
            "12/12 [==============================] - 2s 199ms/step - loss: 0.0027 - val_loss: 3.5532e-04\n",
            "Epoch 23/100\n",
            "12/12 [==============================] - 2s 198ms/step - loss: 0.0028 - val_loss: 2.2751e-04\n",
            "Epoch 24/100\n",
            "12/12 [==============================] - 4s 327ms/step - loss: 0.0018 - val_loss: 2.2808e-04\n",
            "Epoch 25/100\n",
            "12/12 [==============================] - 2s 198ms/step - loss: 0.0024 - val_loss: 2.6335e-04\n",
            "Epoch 26/100\n",
            "12/12 [==============================] - 2s 199ms/step - loss: 0.0023 - val_loss: 2.2352e-04\n",
            "Epoch 27/100\n",
            "12/12 [==============================] - 2s 198ms/step - loss: 0.0021 - val_loss: 2.1383e-04\n",
            "Epoch 28/100\n",
            "12/12 [==============================] - 2s 197ms/step - loss: 0.0020 - val_loss: 3.0717e-04\n",
            "Epoch 29/100\n",
            "12/12 [==============================] - 4s 304ms/step - loss: 0.0063 - val_loss: 0.0012\n",
            "Epoch 30/100\n",
            "12/12 [==============================] - 3s 213ms/step - loss: 0.0032 - val_loss: 3.2752e-04\n",
            "Epoch 31/100\n",
            "12/12 [==============================] - 2s 202ms/step - loss: 0.0021 - val_loss: 2.1495e-04\n",
            "Epoch 32/100\n",
            "12/12 [==============================] - 2s 202ms/step - loss: 0.0023 - val_loss: 5.2377e-04\n",
            "Epoch 33/100\n",
            "12/12 [==============================] - 2s 198ms/step - loss: 0.0024 - val_loss: 6.1532e-04\n",
            "Epoch 34/100\n",
            "12/12 [==============================] - 3s 277ms/step - loss: 0.0030 - val_loss: 2.8673e-04\n",
            "Epoch 35/100\n",
            "12/12 [==============================] - 3s 243ms/step - loss: 0.0022 - val_loss: 2.1810e-04\n",
            "Epoch 36/100\n",
            "12/12 [==============================] - 2s 197ms/step - loss: 0.0014 - val_loss: 2.2189e-04\n",
            "Epoch 37/100\n",
            "12/12 [==============================] - 2s 200ms/step - loss: 0.0016 - val_loss: 2.2511e-04\n",
            "Epoch 38/100\n",
            "12/12 [==============================] - 2s 198ms/step - loss: 0.0014 - val_loss: 2.7684e-04\n",
            "Epoch 39/100\n",
            "12/12 [==============================] - 3s 259ms/step - loss: 0.0016 - val_loss: 3.1095e-04\n",
            "Epoch 40/100\n",
            "12/12 [==============================] - 3s 262ms/step - loss: 0.0021 - val_loss: 3.6838e-04\n",
            "Epoch 41/100\n",
            "12/12 [==============================] - 2s 199ms/step - loss: 0.0016 - val_loss: 2.3694e-04\n",
            "Epoch 42/100\n",
            "12/12 [==============================] - 3s 238ms/step - loss: 0.0016 - val_loss: 3.6478e-04\n",
            "Epoch 43/100\n",
            "12/12 [==============================] - 4s 318ms/step - loss: 0.0015 - val_loss: 2.1382e-04\n",
            "Epoch 44/100\n",
            "12/12 [==============================] - 6s 496ms/step - loss: 0.0013 - val_loss: 2.1532e-04\n",
            "Epoch 45/100\n",
            "12/12 [==============================] - 4s 303ms/step - loss: 0.0014 - val_loss: 2.7833e-04\n",
            "Epoch 46/100\n",
            "12/12 [==============================] - 3s 297ms/step - loss: 0.0013 - val_loss: 2.3978e-04\n",
            "Epoch 47/100\n",
            "12/12 [==============================] - 5s 476ms/step - loss: 0.0013 - val_loss: 2.1678e-04\n",
            "Epoch 48/100\n",
            "12/12 [==============================] - 3s 284ms/step - loss: 0.0030 - val_loss: 4.4728e-04\n",
            "Epoch 49/100\n",
            "12/12 [==============================] - 3s 271ms/step - loss: 0.0040 - val_loss: 0.0011\n",
            "Epoch 50/100\n",
            "12/12 [==============================] - 4s 292ms/step - loss: 0.0022 - val_loss: 5.2462e-04\n",
            "Epoch 51/100\n",
            "12/12 [==============================] - 5s 424ms/step - loss: 0.0032 - val_loss: 4.7500e-04\n",
            "Epoch 52/100\n",
            "12/12 [==============================] - 3s 203ms/step - loss: 0.0022 - val_loss: 2.0974e-04\n",
            "Epoch 53/100\n",
            "12/12 [==============================] - 2s 197ms/step - loss: 0.0020 - val_loss: 2.3414e-04\n",
            "Epoch 54/100\n",
            "12/12 [==============================] - 3s 230ms/step - loss: 0.0020 - val_loss: 2.6208e-04\n",
            "Epoch 55/100\n",
            "12/12 [==============================] - 4s 299ms/step - loss: 0.0017 - val_loss: 2.6604e-04\n",
            "Epoch 56/100\n",
            "12/12 [==============================] - 3s 265ms/step - loss: 0.0014 - val_loss: 2.0845e-04\n",
            "Epoch 57/100\n",
            "12/12 [==============================] - 3s 260ms/step - loss: 0.0017 - val_loss: 3.1013e-04\n",
            "Epoch 58/100\n",
            "12/12 [==============================] - 3s 289ms/step - loss: 0.0015 - val_loss: 2.1164e-04\n",
            "Epoch 59/100\n",
            "12/12 [==============================] - 6s 521ms/step - loss: 0.0014 - val_loss: 2.5723e-04\n",
            "Epoch 60/100\n",
            "12/12 [==============================] - 4s 284ms/step - loss: 0.0012 - val_loss: 2.2032e-04\n",
            "Epoch 61/100\n",
            "12/12 [==============================] - 2s 200ms/step - loss: 0.0012 - val_loss: 2.1193e-04\n",
            "Epoch 62/100\n",
            "12/12 [==============================] - 2s 197ms/step - loss: 0.0011 - val_loss: 2.0978e-04\n",
            "Epoch 63/100\n",
            "12/12 [==============================] - 2s 198ms/step - loss: 0.0012 - val_loss: 2.1042e-04\n",
            "Epoch 64/100\n",
            "12/12 [==============================] - 3s 279ms/step - loss: 0.0011 - val_loss: 2.1714e-04\n",
            "Epoch 65/100\n",
            "12/12 [==============================] - 3s 268ms/step - loss: 0.0013 - val_loss: 3.3637e-04\n",
            "Epoch 66/100\n",
            "12/12 [==============================] - 2s 200ms/step - loss: 0.0017 - val_loss: 2.2498e-04\n",
            "Epoch 67/100\n",
            "12/12 [==============================] - 2s 200ms/step - loss: 0.0014 - val_loss: 2.8035e-04\n",
            "Epoch 68/100\n",
            "12/12 [==============================] - 2s 203ms/step - loss: 0.0017 - val_loss: 4.9052e-04\n",
            "Epoch 69/100\n",
            "12/12 [==============================] - 3s 281ms/step - loss: 0.0016 - val_loss: 2.1422e-04\n",
            "Epoch 70/100\n",
            "12/12 [==============================] - 3s 240ms/step - loss: 0.0014 - val_loss: 2.2649e-04\n",
            "Epoch 71/100\n",
            "12/12 [==============================] - 3s 212ms/step - loss: 0.0012 - val_loss: 2.1873e-04\n",
            "Epoch 72/100\n",
            "12/12 [==============================] - 3s 267ms/step - loss: 0.0012 - val_loss: 2.6636e-04\n",
            "Epoch 73/100\n",
            "12/12 [==============================] - 2s 199ms/step - loss: 0.0014 - val_loss: 2.4851e-04\n",
            "Epoch 74/100\n",
            "12/12 [==============================] - 4s 331ms/step - loss: 0.0013 - val_loss: 2.0873e-04\n",
            "Epoch 75/100\n",
            "12/12 [==============================] - 3s 280ms/step - loss: 0.0013 - val_loss: 2.3759e-04\n",
            "Epoch 76/100\n",
            "12/12 [==============================] - 5s 444ms/step - loss: 0.0014 - val_loss: 2.1161e-04\n",
            "Epoch 77/100\n",
            "12/12 [==============================] - 7s 583ms/step - loss: 0.0012 - val_loss: 3.1471e-04\n",
            "Epoch 78/100\n",
            "12/12 [==============================] - 5s 413ms/step - loss: 0.0013 - val_loss: 2.0900e-04\n",
            "Epoch 79/100\n",
            "12/12 [==============================] - 6s 503ms/step - loss: 0.0010 - val_loss: 2.1123e-04\n",
            "Epoch 80/100\n",
            "12/12 [==============================] - 6s 489ms/step - loss: 0.0013 - val_loss: 4.1184e-04\n",
            "Epoch 81/100\n",
            "12/12 [==============================] - 4s 367ms/step - loss: 0.0024 - val_loss: 2.1883e-04\n",
            "Epoch 82/100\n",
            "12/12 [==============================] - 4s 363ms/step - loss: 0.0027 - val_loss: 3.9099e-04\n",
            "Epoch 83/100\n",
            "12/12 [==============================] - 3s 243ms/step - loss: 0.0019 - val_loss: 4.2167e-04\n",
            "Epoch 84/100\n",
            "12/12 [==============================] - 2s 195ms/step - loss: 0.0018 - val_loss: 2.1190e-04\n",
            "Epoch 85/100\n",
            "12/12 [==============================] - 2s 198ms/step - loss: 0.0015 - val_loss: 2.2390e-04\n",
            "Epoch 86/100\n",
            "12/12 [==============================] - 2s 197ms/step - loss: 0.0014 - val_loss: 2.1401e-04\n",
            "Epoch 87/100\n",
            "12/12 [==============================] - 3s 252ms/step - loss: 0.0016 - val_loss: 2.7147e-04\n",
            "Epoch 88/100\n",
            "12/12 [==============================] - 3s 268ms/step - loss: 0.0010 - val_loss: 2.4068e-04\n",
            "Epoch 89/100\n",
            "12/12 [==============================] - 2s 201ms/step - loss: 0.0010 - val_loss: 2.1601e-04\n",
            "Epoch 90/100\n",
            "12/12 [==============================] - 2s 197ms/step - loss: 0.0037 - val_loss: 0.0011\n",
            "Epoch 91/100\n",
            "12/12 [==============================] - 2s 196ms/step - loss: 0.0020 - val_loss: 2.3984e-04\n",
            "Epoch 92/100\n",
            "12/12 [==============================] - 3s 234ms/step - loss: 0.0018 - val_loss: 2.1199e-04\n",
            "Epoch 93/100\n",
            "12/12 [==============================] - 3s 282ms/step - loss: 0.0015 - val_loss: 3.4682e-04\n",
            "Epoch 94/100\n",
            "12/12 [==============================] - 2s 196ms/step - loss: 0.0012 - val_loss: 1.9963e-04\n",
            "Epoch 95/100\n",
            "12/12 [==============================] - 2s 196ms/step - loss: 0.0011 - val_loss: 2.3060e-04\n",
            "Epoch 96/100\n",
            "12/12 [==============================] - 2s 196ms/step - loss: 0.0010 - val_loss: 2.0883e-04\n",
            "Epoch 97/100\n",
            "12/12 [==============================] - 2s 195ms/step - loss: 0.0013 - val_loss: 2.0041e-04\n",
            "Epoch 98/100\n",
            "12/12 [==============================] - 4s 331ms/step - loss: 0.0021 - val_loss: 5.7046e-04\n",
            "Epoch 99/100\n",
            "12/12 [==============================] - 2s 197ms/step - loss: 0.0016 - val_loss: 1.9640e-04\n",
            "Epoch 100/100\n",
            "12/12 [==============================] - 2s 193ms/step - loss: 0.0013 - val_loss: 1.9320e-04\n"
          ]
        },
        {
          "output_type": "execute_result",
          "data": {
            "text/plain": [
              "<keras.src.callbacks.History at 0x7854aef119c0>"
            ]
          },
          "metadata": {},
          "execution_count": 40
        }
      ]
    },
    {
      "cell_type": "code",
      "source": [
        "train_predict= model.predict(X_train)\n",
        "test_predict= model.predict(X_test)\n",
        "\n",
        "#since we scaled it already, we need to do now the scler inverse transform\n",
        "\n",
        "train_predict= scaler.inverse_transform(train_predict)\n",
        "test_predict= scaler.inverse_transform(test_predict)"
      ],
      "metadata": {
        "colab": {
          "base_uri": "https://localhost:8080/"
        },
        "id": "UPAniUa0wEgc",
        "outputId": "90636c87-175c-431f-f66f-61fbb85bfd39"
      },
      "execution_count": null,
      "outputs": [
        {
          "output_type": "stream",
          "name": "stdout",
          "text": [
            "23/23 [==============================] - 3s 37ms/step\n",
            "11/11 [==============================] - 0s 37ms/step\n"
          ]
        }
      ]
    },
    {
      "cell_type": "code",
      "source": [
        "import math\n",
        "from sklearn.metrics import mean_squared_error as mse\n",
        "math.sqrt( mse (Y_train, train_predict))"
      ],
      "metadata": {
        "colab": {
          "base_uri": "https://localhost:8080/"
        },
        "id": "I_bKU1npxX-4",
        "outputId": "63be3724-261b-47d5-b327-c609387dd66a"
      },
      "execution_count": null,
      "outputs": [
        {
          "output_type": "execute_result",
          "data": {
            "text/plain": [
              "219.49570780067606"
            ]
          },
          "metadata": {},
          "execution_count": 42
        }
      ]
    },
    {
      "cell_type": "code",
      "source": [
        "math.sqrt(mse (Y_test, test_predict ))"
      ],
      "metadata": {
        "colab": {
          "base_uri": "https://localhost:8080/"
        },
        "id": "IswPJbdJyYcB",
        "outputId": "70c612fd-6fab-4f85-9aa6-9fa3378f2f4d"
      },
      "execution_count": null,
      "outputs": [
        {
          "output_type": "execute_result",
          "data": {
            "text/plain": [
              "165.38871458400024"
            ]
          },
          "metadata": {},
          "execution_count": 43
        }
      ]
    },
    {
      "cell_type": "code",
      "source": [
        "look_back= 100\n",
        "\n",
        "train_predicted_plot= np.empty_like(df2)\n",
        "train_predicted_plot[:, :]= np.nan\n",
        "train_predicted_plot[look_back: len(train_predict)+ look_back , : ]= train_predict\n",
        "\n",
        "\n",
        "test_predicted_plot = np.empty_like(df2)\n",
        "test_predicted_plot[:, :]= np.nan\n",
        "test_predicted_plot[len(train_predict)+ (look_back*2)+1: len(df2)-1 , :]= test_predict\n",
        "\n",
        "\n",
        "\n",
        "plt.plot(scaler.inverse_transform(df2))\n",
        "plt.plot(train_predicted_plot)\n",
        "plt.plot(test_predicted_plot)"
      ],
      "metadata": {
        "colab": {
          "base_uri": "https://localhost:8080/",
          "height": 448
        },
        "id": "NmTcNp5lykxX",
        "outputId": "0e2befdd-3f4f-4dba-8cf6-457f6fbec2b8"
      },
      "execution_count": null,
      "outputs": [
        {
          "output_type": "execute_result",
          "data": {
            "text/plain": [
              "[<matplotlib.lines.Line2D at 0x7854aef13400>]"
            ]
          },
          "metadata": {},
          "execution_count": 55
        },
        {
          "output_type": "display_data",
          "data": {
            "text/plain": [
              "<Figure size 640x480 with 1 Axes>"
            ],
            "image/png": "[encoded data removed]"
          },
          "metadata": {}
        }
      ]
    },
    {
      "cell_type": "markdown",
      "source": [
        "**APPLE STOCK PREDICTION **\n",
        "\n",
        "1. Blue= Original market value\n",
        "2. orange = Predicted on train case\n",
        "3. Green= Predicted on test case"
      ],
      "metadata": {
        "id": "ZXv7sZVUAmXa"
      }
    },
    {
      "cell_type": "code",
      "source": [
        "#NOW THE TIME FOR FUTURE PREDICTION OF THE MODEL\n",
        "\n",
        "\n",
        "\n"
      ],
      "metadata": {
        "id": "tZBAwyiOz35w"
      },
      "execution_count": null,
      "outputs": []
    },
    {
      "cell_type": "code",
      "source": [
        "len(test_data)\n"
      ],
      "metadata": {
        "colab": {
          "base_uri": "https://localhost:8080/"
        },
        "id": "daMjvllR2v6e",
        "outputId": "81d28819-8a72-47d7-9eb8-e107abdcd247"
      },
      "execution_count": null,
      "outputs": [
        {
          "output_type": "execute_result",
          "data": {
            "text/plain": [
              "440"
            ]
          },
          "metadata": {},
          "execution_count": 57
        }
      ]
    },
    {
      "cell_type": "code",
      "source": [
        "X_input= test_data[340:].reshape(1, -1)\n",
        "X_input"
      ],
      "metadata": {
        "colab": {
          "base_uri": "https://localhost:8080/"
        },
        "id": "g3vNG6qDGmzk",
        "outputId": "efbe283d-e8ac-42cb-b34b-5efed8b58f44"
      },
      "execution_count": null,
      "outputs": [
        {
          "output_type": "execute_result",
          "data": {
            "text/plain": [
              "array([[0.21517846, 0.21735755, 0.21956168, 0.21635567, 0.22289292,\n",
              "        0.22444584, 0.22232937, 0.21475266, 0.21122104, 0.18822793,\n",
              "        0.18036318, 0.18274264, 0.17871008, 0.17815905, 0.1777082 ,\n",
              "        0.18189105, 0.17685661, 0.17465247, 0.1682154 , 0.16944271,\n",
              "        0.17282405, 0.17630557, 0.18604884, 0.17417658, 0.17976205,\n",
              "        0.18371947, 0.19356293, 0.20240451, 0.20295554, 0.20693801,\n",
              "        0.20753914, 0.19053225, 0.17713212, 0.17868503, 0.18164058,\n",
              "        0.17397621, 0.16874139, 0.17257358, 0.17074515, 0.17815905,\n",
              "        0.18091421, 0.1719474 , 0.16804008, 0.17019411, 0.17342517,\n",
              "        0.16310582, 0.15927364, 0.15992486, 0.1612273 , 0.16758923,\n",
              "        0.16420789, 0.16736381, 0.17049468, 0.17695679, 0.18071384,\n",
              "        0.17921102, 0.18274264, 0.18502192, 0.18036318, 0.18003757,\n",
              "        0.1761052 , 0.17282405, 0.17187226, 0.16541014, 0.16571071,\n",
              "        0.16681277, 0.16095178, 0.15040701, 0.15373826, 0.15892298,\n",
              "        0.16012523, 0.16814026, 0.17715717, 0.17485285, 0.18131497,\n",
              "        0.18780213, 0.19048215, 0.1892799 , 0.19927364, 0.19526612,\n",
              "        0.20187852, 0.2033062 , 0.20756418, 0.20751409, 0.21192235,\n",
              "        0.20989355, 0.2115717 , 0.2082154 , 0.20776456, 0.20929242,\n",
              "        0.20671259, 0.20816531, 0.21139637, 0.20686287, 0.21685661,\n",
              "        0.21410144, 0.2189856 , 0.22259236, 0.21625548, 0.22008766]])"
            ]
          },
          "metadata": {},
          "execution_count": 75
        }
      ]
    },
    {
      "cell_type": "code",
      "source": [
        "temp_input = list(X_input)\n",
        "temp_input = temp_input[0].tolist()"
      ],
      "metadata": {
        "id": "v0hAuvdSG4cE"
      },
      "execution_count": null,
      "outputs": []
    },
    {
      "cell_type": "code",
      "source": [
        "temp_input"
      ],
      "metadata": {
        "colab": {
          "base_uri": "https://localhost:8080/"
        },
        "id": "NAUgvpQGHk0k",
        "outputId": "2bdd40f6-b979-4f18-962f-16c250734883"
      },
      "execution_count": null,
      "outputs": [
        {
          "output_type": "execute_result",
          "data": {
            "text/plain": [
              "[0.215178459611772,\n",
              " 0.21735754539762048,\n",
              " 0.21956167814652466,\n",
              " 0.21635566687539132,\n",
              " 0.22289292423293672,\n",
              " 0.22444583594239192,\n",
              " 0.22232936756418276,\n",
              " 0.21475266123982467,\n",
              " 0.21122103944896675,\n",
              " 0.1882279273638071,\n",
              " 0.18036318096430803,\n",
              " 0.18274264245460237,\n",
              " 0.1787100814026299,\n",
              " 0.17815904821540385,\n",
              " 0.17770820288040068,\n",
              " 0.18189104571070758,\n",
              " 0.1768566061365059,\n",
              " 0.1746524733876017,\n",
              " 0.16821540388227924,\n",
              " 0.16944270507200998,\n",
              " 0.17282404508453347,\n",
              " 0.17630557294927984,\n",
              " 0.18604884157795865,\n",
              " 0.17417658108954281,\n",
              " 0.17976205385097055,\n",
              " 0.18371947401377575,\n",
              " 0.1935629304946775,\n",
              " 0.20240450845335,\n",
              " 0.20295554164057605,\n",
              " 0.20693800876643703,\n",
              " 0.20753913587977452,\n",
              " 0.19053224796493418,\n",
              " 0.1771321227301189,\n",
              " 0.17868503443957418,\n",
              " 0.18164057608015027,\n",
              " 0.17397620538509706,\n",
              " 0.16874139010644956,\n",
              " 0.17257357545397617,\n",
              " 0.17074514715090788,\n",
              " 0.17815904821540385,\n",
              " 0.18091421415153408,\n",
              " 0.17194740137758296,\n",
              " 0.16804007514088914,\n",
              " 0.17019411396368184,\n",
              " 0.173425172197871,\n",
              " 0.16310582341891044,\n",
              " 0.15927363807138384,\n",
              " 0.15992485911083276,\n",
              " 0.16122730118973072,\n",
              " 0.16758922980588598,\n",
              " 0.16420788979336254,\n",
              " 0.1673638071383844,\n",
              " 0.17049467752035058,\n",
              " 0.17695679398872882,\n",
              " 0.18071383844708827,\n",
              " 0.17921102066374445,\n",
              " 0.18274264245460237,\n",
              " 0.1850219160926737,\n",
              " 0.18036318096430803,\n",
              " 0.18003757044458357,\n",
              " 0.17610519724483403,\n",
              " 0.17282404508453347,\n",
              " 0.17187226048841575,\n",
              " 0.1654101440200375,\n",
              " 0.1657107075767063,\n",
              " 0.1668127739511584,\n",
              " 0.16095178459611764,\n",
              " 0.15040701314965554,\n",
              " 0.1537382592360676,\n",
              " 0.15892298058860355,\n",
              " 0.16012523481527863,\n",
              " 0.16814026299311202,\n",
              " 0.17715716969317463,\n",
              " 0.17485284909204757,\n",
              " 0.1813149655604257,\n",
              " 0.18780212899185966,\n",
              " 0.19048215403882274,\n",
              " 0.1892798998121477,\n",
              " 0.19927363807138382,\n",
              " 0.19526612398246712,\n",
              " 0.20187852222917968,\n",
              " 0.20330619912335623,\n",
              " 0.2075641828428303,\n",
              " 0.2075140889167188,\n",
              " 0.21192235441452717,\n",
              " 0.20989355040701307,\n",
              " 0.211571696931747,\n",
              " 0.20821540388227922,\n",
              " 0.2077645585472761,\n",
              " 0.2092924232936756,\n",
              " 0.20671258609893545,\n",
              " 0.20816530995616772,\n",
              " 0.2113963681903569,\n",
              " 0.20686286787726987,\n",
              " 0.21685660613650587,\n",
              " 0.21410144020037564,\n",
              " 0.21898559799624295,\n",
              " 0.22259236067626798,\n",
              " 0.21625547902316838,\n",
              " 0.22008766437069505]"
            ]
          },
          "metadata": {},
          "execution_count": 77
        }
      ]
    },
    {
      "cell_type": "code",
      "source": [
        "# logic to predict for next 30 days\n",
        "\n",
        "from numpy import array\n",
        "\n",
        "lst_output=[]\n",
        "n_steps=100\n",
        "i=0\n",
        "while(i<30):\n",
        "\n",
        "    if(len(temp_input)>100):\n",
        "        #print(temp_input)\n",
        "        x_input=np.array(temp_input[1:])\n",
        "        print(\"{} day input {}\".format(i,x_input))\n",
        "        x_input=x_input.reshape(1,-1)\n",
        "        x_input = x_input.reshape((1, n_steps, 1))\n",
        "        #print(x_input)\n",
        "        yhat = model.predict(x_input, verbose=0)\n",
        "        print(\"{} day output {}\".format(i,yhat))\n",
        "        temp_input.extend(yhat[0].tolist())\n",
        "        temp_input=temp_input[1:]\n",
        "        #print(temp_input)\n",
        "        lst_output.extend(yhat.tolist())\n",
        "        i=i+1\n",
        "    else:\n",
        "        x_input = x_input.reshape((1, n_steps,1))\n",
        "        yhat = model.predict(x_input, verbose=0)\n",
        "        print(yhat[0])\n",
        "        temp_input.extend(yhat[0].tolist())\n",
        "        print(len(temp_input))\n",
        "        lst_output.extend(yhat.tolist())\n",
        "        i=i+1\n",
        "\n",
        "\n",
        "print(lst_output)"
      ],
      "metadata": {
        "colab": {
          "base_uri": "https://localhost:8080/"
        },
        "id": "LaKt1EBYHusT",
        "outputId": "6c8e6768-5657-4261-968a-3cedc1b3e3ef"
      },
      "execution_count": null,
      "outputs": [
        {
          "output_type": "stream",
          "name": "stdout",
          "text": [
            "0 day input [0.17282405 0.17187226 0.16541014 0.16571071 0.16681277 0.16095178\n",
            " 0.15040701 0.15373826 0.15892298 0.16012523 0.16814026 0.17715717\n",
            " 0.17485285 0.18131497 0.18780213 0.19048215 0.1892799  0.19927364\n",
            " 0.19526612 0.20187852 0.2033062  0.20756418 0.20751409 0.21192235\n",
            " 0.20989355 0.2115717  0.2082154  0.20776456 0.20929242 0.20671259\n",
            " 0.20816531 0.21139637 0.20686287 0.21685661 0.21410144 0.2189856\n",
            " 0.22259236 0.21625548 0.22008766 0.21305047 0.21305047 0.21305047\n",
            " 0.21305047 0.21305047 0.21305047 0.21305047 0.21305047 0.21305047\n",
            " 0.21305047 0.21305047 0.21305047 0.21305047 0.21305047 0.21305047\n",
            " 0.21305047 0.21305047 0.21305047 0.21305047 0.21305047 0.21305047\n",
            " 0.21305047 0.21305047 0.21305047 0.21305047 0.21305047 0.21305047\n",
            " 0.21305047 0.21305047 0.21305047 0.21305047 0.21305047 0.21305047\n",
            " 0.21305047 0.21305047 0.21305047 0.21305047 0.21305047 0.21305047\n",
            " 0.21305047 0.21305047 0.21305047 0.21305047 0.21305047 0.21305047\n",
            " 0.21305047 0.21305047 0.21305047 0.21305047 0.21305047 0.21305047\n",
            " 0.21305047 0.21305047 0.21305047 0.21305047 0.21305047 0.21305047\n",
            " 0.21305047 0.21305047 0.21305047 0.21305047]\n",
            "0 day output [[0.21248093]]\n",
            "1 day input [0.17187226 0.16541014 0.16571071 0.16681277 0.16095178 0.15040701\n",
            " 0.15373826 0.15892298 0.16012523 0.16814026 0.17715717 0.17485285\n",
            " 0.18131497 0.18780213 0.19048215 0.1892799  0.19927364 0.19526612\n",
            " 0.20187852 0.2033062  0.20756418 0.20751409 0.21192235 0.20989355\n",
            " 0.2115717  0.2082154  0.20776456 0.20929242 0.20671259 0.20816531\n",
            " 0.21139637 0.20686287 0.21685661 0.21410144 0.2189856  0.22259236\n",
            " 0.21625548 0.22008766 0.21305047 0.21305047 0.21305047 0.21305047\n",
            " 0.21305047 0.21305047 0.21305047 0.21305047 0.21305047 0.21305047\n",
            " 0.21305047 0.21305047 0.21305047 0.21305047 0.21305047 0.21305047\n",
            " 0.21305047 0.21305047 0.21305047 0.21305047 0.21305047 0.21305047\n",
            " 0.21305047 0.21305047 0.21305047 0.21305047 0.21305047 0.21305047\n",
            " 0.21305047 0.21305047 0.21305047 0.21305047 0.21305047 0.21305047\n",
            " 0.21305047 0.21305047 0.21305047 0.21305047 0.21305047 0.21305047\n",
            " 0.21305047 0.21305047 0.21305047 0.21305047 0.21305047 0.21305047\n",
            " 0.21305047 0.21305047 0.21305047 0.21305047 0.21305047 0.21305047\n",
            " 0.21305047 0.21305047 0.21305047 0.21305047 0.21305047 0.21305047\n",
            " 0.21305047 0.21305047 0.21305047 0.21248093]\n",
            "1 day output [[0.21246172]]\n",
            "2 day input [0.16541014 0.16571071 0.16681277 0.16095178 0.15040701 0.15373826\n",
            " 0.15892298 0.16012523 0.16814026 0.17715717 0.17485285 0.18131497\n",
            " 0.18780213 0.19048215 0.1892799  0.19927364 0.19526612 0.20187852\n",
            " 0.2033062  0.20756418 0.20751409 0.21192235 0.20989355 0.2115717\n",
            " 0.2082154  0.20776456 0.20929242 0.20671259 0.20816531 0.21139637\n",
            " 0.20686287 0.21685661 0.21410144 0.2189856  0.22259236 0.21625548\n",
            " 0.22008766 0.21305047 0.21305047 0.21305047 0.21305047 0.21305047\n",
            " 0.21305047 0.21305047 0.21305047 0.21305047 0.21305047 0.21305047\n",
            " 0.21305047 0.21305047 0.21305047 0.21305047 0.21305047 0.21305047\n",
            " 0.21305047 0.21305047 0.21305047 0.21305047 0.21305047 0.21305047\n",
            " 0.21305047 0.21305047 0.21305047 0.21305047 0.21305047 0.21305047\n",
            " 0.21305047 0.21305047 0.21305047 0.21305047 0.21305047 0.21305047\n",
            " 0.21305047 0.21305047 0.21305047 0.21305047 0.21305047 0.21305047\n",
            " 0.21305047 0.21305047 0.21305047 0.21305047 0.21305047 0.21305047\n",
            " 0.21305047 0.21305047 0.21305047 0.21305047 0.21305047 0.21305047\n",
            " 0.21305047 0.21305047 0.21305047 0.21305047 0.21305047 0.21305047\n",
            " 0.21305047 0.21305047 0.21248093 0.21246172]\n",
            "2 day output [[0.21242113]]\n",
            "3 day input [0.16571071 0.16681277 0.16095178 0.15040701 0.15373826 0.15892298\n",
            " 0.16012523 0.16814026 0.17715717 0.17485285 0.18131497 0.18780213\n",
            " 0.19048215 0.1892799  0.19927364 0.19526612 0.20187852 0.2033062\n",
            " 0.20756418 0.20751409 0.21192235 0.20989355 0.2115717  0.2082154\n",
            " 0.20776456 0.20929242 0.20671259 0.20816531 0.21139637 0.20686287\n",
            " 0.21685661 0.21410144 0.2189856  0.22259236 0.21625548 0.22008766\n",
            " 0.21305047 0.21305047 0.21305047 0.21305047 0.21305047 0.21305047\n",
            " 0.21305047 0.21305047 0.21305047 0.21305047 0.21305047 0.21305047\n",
            " 0.21305047 0.21305047 0.21305047 0.21305047 0.21305047 0.21305047\n",
            " 0.21305047 0.21305047 0.21305047 0.21305047 0.21305047 0.21305047\n",
            " 0.21305047 0.21305047 0.21305047 0.21305047 0.21305047 0.21305047\n",
            " 0.21305047 0.21305047 0.21305047 0.21305047 0.21305047 0.21305047\n",
            " 0.21305047 0.21305047 0.21305047 0.21305047 0.21305047 0.21305047\n",
            " 0.21305047 0.21305047 0.21305047 0.21305047 0.21305047 0.21305047\n",
            " 0.21305047 0.21305047 0.21305047 0.21305047 0.21305047 0.21305047\n",
            " 0.21305047 0.21305047 0.21305047 0.21305047 0.21305047 0.21305047\n",
            " 0.21305047 0.21248093 0.21246172 0.21242113]\n",
            "3 day output [[0.21236181]]\n",
            "4 day input [0.16681277 0.16095178 0.15040701 0.15373826 0.15892298 0.16012523\n",
            " 0.16814026 0.17715717 0.17485285 0.18131497 0.18780213 0.19048215\n",
            " 0.1892799  0.19927364 0.19526612 0.20187852 0.2033062  0.20756418\n",
            " 0.20751409 0.21192235 0.20989355 0.2115717  0.2082154  0.20776456\n",
            " 0.20929242 0.20671259 0.20816531 0.21139637 0.20686287 0.21685661\n",
            " 0.21410144 0.2189856  0.22259236 0.21625548 0.22008766 0.21305047\n",
            " 0.21305047 0.21305047 0.21305047 0.21305047 0.21305047 0.21305047\n",
            " 0.21305047 0.21305047 0.21305047 0.21305047 0.21305047 0.21305047\n",
            " 0.21305047 0.21305047 0.21305047 0.21305047 0.21305047 0.21305047\n",
            " 0.21305047 0.21305047 0.21305047 0.21305047 0.21305047 0.21305047\n",
            " 0.21305047 0.21305047 0.21305047 0.21305047 0.21305047 0.21305047\n",
            " 0.21305047 0.21305047 0.21305047 0.21305047 0.21305047 0.21305047\n",
            " 0.21305047 0.21305047 0.21305047 0.21305047 0.21305047 0.21305047\n",
            " 0.21305047 0.21305047 0.21305047 0.21305047 0.21305047 0.21305047\n",
            " 0.21305047 0.21305047 0.21305047 0.21305047 0.21305047 0.21305047\n",
            " 0.21305047 0.21305047 0.21305047 0.21305047 0.21305047 0.21305047\n",
            " 0.21248093 0.21246172 0.21242113 0.21236181]\n",
            "4 day output [[0.21228826]]\n",
            "5 day input [0.16095178 0.15040701 0.15373826 0.15892298 0.16012523 0.16814026\n",
            " 0.17715717 0.17485285 0.18131497 0.18780213 0.19048215 0.1892799\n",
            " 0.19927364 0.19526612 0.20187852 0.2033062  0.20756418 0.20751409\n",
            " 0.21192235 0.20989355 0.2115717  0.2082154  0.20776456 0.20929242\n",
            " 0.20671259 0.20816531 0.21139637 0.20686287 0.21685661 0.21410144\n",
            " 0.2189856  0.22259236 0.21625548 0.22008766 0.21305047 0.21305047\n",
            " 0.21305047 0.21305047 0.21305047 0.21305047 0.21305047 0.21305047\n",
            " 0.21305047 0.21305047 0.21305047 0.21305047 0.21305047 0.21305047\n",
            " 0.21305047 0.21305047 0.21305047 0.21305047 0.21305047 0.21305047\n",
            " 0.21305047 0.21305047 0.21305047 0.21305047 0.21305047 0.21305047\n",
            " 0.21305047 0.21305047 0.21305047 0.21305047 0.21305047 0.21305047\n",
            " 0.21305047 0.21305047 0.21305047 0.21305047 0.21305047 0.21305047\n",
            " 0.21305047 0.21305047 0.21305047 0.21305047 0.21305047 0.21305047\n",
            " 0.21305047 0.21305047 0.21305047 0.21305047 0.21305047 0.21305047\n",
            " 0.21305047 0.21305047 0.21305047 0.21305047 0.21305047 0.21305047\n",
            " 0.21305047 0.21305047 0.21305047 0.21305047 0.21305047 0.21248093\n",
            " 0.21246172 0.21242113 0.21236181 0.21228826]\n",
            "5 day output [[0.21220452]]\n",
            "6 day input [0.15040701 0.15373826 0.15892298 0.16012523 0.16814026 0.17715717\n",
            " 0.17485285 0.18131497 0.18780213 0.19048215 0.1892799  0.19927364\n",
            " 0.19526612 0.20187852 0.2033062  0.20756418 0.20751409 0.21192235\n",
            " 0.20989355 0.2115717  0.2082154  0.20776456 0.20929242 0.20671259\n",
            " 0.20816531 0.21139637 0.20686287 0.21685661 0.21410144 0.2189856\n",
            " 0.22259236 0.21625548 0.22008766 0.21305047 0.21305047 0.21305047\n",
            " 0.21305047 0.21305047 0.21305047 0.21305047 0.21305047 0.21305047\n",
            " 0.21305047 0.21305047 0.21305047 0.21305047 0.21305047 0.21305047\n",
            " 0.21305047 0.21305047 0.21305047 0.21305047 0.21305047 0.21305047\n",
            " 0.21305047 0.21305047 0.21305047 0.21305047 0.21305047 0.21305047\n",
            " 0.21305047 0.21305047 0.21305047 0.21305047 0.21305047 0.21305047\n",
            " 0.21305047 0.21305047 0.21305047 0.21305047 0.21305047 0.21305047\n",
            " 0.21305047 0.21305047 0.21305047 0.21305047 0.21305047 0.21305047\n",
            " 0.21305047 0.21305047 0.21305047 0.21305047 0.21305047 0.21305047\n",
            " 0.21305047 0.21305047 0.21305047 0.21305047 0.21305047 0.21305047\n",
            " 0.21305047 0.21305047 0.21305047 0.21305047 0.21248093 0.21246172\n",
            " 0.21242113 0.21236181 0.21228826 0.21220452]\n",
            "6 day output [[0.21211407]]\n",
            "7 day input [0.15373826 0.15892298 0.16012523 0.16814026 0.17715717 0.17485285\n",
            " 0.18131497 0.18780213 0.19048215 0.1892799  0.19927364 0.19526612\n",
            " 0.20187852 0.2033062  0.20756418 0.20751409 0.21192235 0.20989355\n",
            " 0.2115717  0.2082154  0.20776456 0.20929242 0.20671259 0.20816531\n",
            " 0.21139637 0.20686287 0.21685661 0.21410144 0.2189856  0.22259236\n",
            " 0.21625548 0.22008766 0.21305047 0.21305047 0.21305047 0.21305047\n",
            " 0.21305047 0.21305047 0.21305047 0.21305047 0.21305047 0.21305047\n",
            " 0.21305047 0.21305047 0.21305047 0.21305047 0.21305047 0.21305047\n",
            " 0.21305047 0.21305047 0.21305047 0.21305047 0.21305047 0.21305047\n",
            " 0.21305047 0.21305047 0.21305047 0.21305047 0.21305047 0.21305047\n",
            " 0.21305047 0.21305047 0.21305047 0.21305047 0.21305047 0.21305047\n",
            " 0.21305047 0.21305047 0.21305047 0.21305047 0.21305047 0.21305047\n",
            " 0.21305047 0.21305047 0.21305047 0.21305047 0.21305047 0.21305047\n",
            " 0.21305047 0.21305047 0.21305047 0.21305047 0.21305047 0.21305047\n",
            " 0.21305047 0.21305047 0.21305047 0.21305047 0.21305047 0.21305047\n",
            " 0.21305047 0.21305047 0.21305047 0.21248093 0.21246172 0.21242113\n",
            " 0.21236181 0.21228826 0.21220452 0.21211407]\n",
            "7 day output [[0.21201938]]\n",
            "8 day input [0.15892298 0.16012523 0.16814026 0.17715717 0.17485285 0.18131497\n",
            " 0.18780213 0.19048215 0.1892799  0.19927364 0.19526612 0.20187852\n",
            " 0.2033062  0.20756418 0.20751409 0.21192235 0.20989355 0.2115717\n",
            " 0.2082154  0.20776456 0.20929242 0.20671259 0.20816531 0.21139637\n",
            " 0.20686287 0.21685661 0.21410144 0.2189856  0.22259236 0.21625548\n",
            " 0.22008766 0.21305047 0.21305047 0.21305047 0.21305047 0.21305047\n",
            " 0.21305047 0.21305047 0.21305047 0.21305047 0.21305047 0.21305047\n",
            " 0.21305047 0.21305047 0.21305047 0.21305047 0.21305047 0.21305047\n",
            " 0.21305047 0.21305047 0.21305047 0.21305047 0.21305047 0.21305047\n",
            " 0.21305047 0.21305047 0.21305047 0.21305047 0.21305047 0.21305047\n",
            " 0.21305047 0.21305047 0.21305047 0.21305047 0.21305047 0.21305047\n",
            " 0.21305047 0.21305047 0.21305047 0.21305047 0.21305047 0.21305047\n",
            " 0.21305047 0.21305047 0.21305047 0.21305047 0.21305047 0.21305047\n",
            " 0.21305047 0.21305047 0.21305047 0.21305047 0.21305047 0.21305047\n",
            " 0.21305047 0.21305047 0.21305047 0.21305047 0.21305047 0.21305047\n",
            " 0.21305047 0.21305047 0.21248093 0.21246172 0.21242113 0.21236181\n",
            " 0.21228826 0.21220452 0.21211407 0.21201938]\n",
            "8 day output [[0.2119222]]\n",
            "9 day input [0.16012523 0.16814026 0.17715717 0.17485285 0.18131497 0.18780213\n",
            " 0.19048215 0.1892799  0.19927364 0.19526612 0.20187852 0.2033062\n",
            " 0.20756418 0.20751409 0.21192235 0.20989355 0.2115717  0.2082154\n",
            " 0.20776456 0.20929242 0.20671259 0.20816531 0.21139637 0.20686287\n",
            " 0.21685661 0.21410144 0.2189856  0.22259236 0.21625548 0.22008766\n",
            " 0.21305047 0.21305047 0.21305047 0.21305047 0.21305047 0.21305047\n",
            " 0.21305047 0.21305047 0.21305047 0.21305047 0.21305047 0.21305047\n",
            " 0.21305047 0.21305047 0.21305047 0.21305047 0.21305047 0.21305047\n",
            " 0.21305047 0.21305047 0.21305047 0.21305047 0.21305047 0.21305047\n",
            " 0.21305047 0.21305047 0.21305047 0.21305047 0.21305047 0.21305047\n",
            " 0.21305047 0.21305047 0.21305047 0.21305047 0.21305047 0.21305047\n",
            " 0.21305047 0.21305047 0.21305047 0.21305047 0.21305047 0.21305047\n",
            " 0.21305047 0.21305047 0.21305047 0.21305047 0.21305047 0.21305047\n",
            " 0.21305047 0.21305047 0.21305047 0.21305047 0.21305047 0.21305047\n",
            " 0.21305047 0.21305047 0.21305047 0.21305047 0.21305047 0.21305047\n",
            " 0.21305047 0.21248093 0.21246172 0.21242113 0.21236181 0.21228826\n",
            " 0.21220452 0.21211407 0.21201938 0.2119222 ]\n",
            "9 day output [[0.21182388]]\n",
            "10 day input [0.16814026 0.17715717 0.17485285 0.18131497 0.18780213 0.19048215\n",
            " 0.1892799  0.19927364 0.19526612 0.20187852 0.2033062  0.20756418\n",
            " 0.20751409 0.21192235 0.20989355 0.2115717  0.2082154  0.20776456\n",
            " 0.20929242 0.20671259 0.20816531 0.21139637 0.20686287 0.21685661\n",
            " 0.21410144 0.2189856  0.22259236 0.21625548 0.22008766 0.21305047\n",
            " 0.21305047 0.21305047 0.21305047 0.21305047 0.21305047 0.21305047\n",
            " 0.21305047 0.21305047 0.21305047 0.21305047 0.21305047 0.21305047\n",
            " 0.21305047 0.21305047 0.21305047 0.21305047 0.21305047 0.21305047\n",
            " 0.21305047 0.21305047 0.21305047 0.21305047 0.21305047 0.21305047\n",
            " 0.21305047 0.21305047 0.21305047 0.21305047 0.21305047 0.21305047\n",
            " 0.21305047 0.21305047 0.21305047 0.21305047 0.21305047 0.21305047\n",
            " 0.21305047 0.21305047 0.21305047 0.21305047 0.21305047 0.21305047\n",
            " 0.21305047 0.21305047 0.21305047 0.21305047 0.21305047 0.21305047\n",
            " 0.21305047 0.21305047 0.21305047 0.21305047 0.21305047 0.21305047\n",
            " 0.21305047 0.21305047 0.21305047 0.21305047 0.21305047 0.21305047\n",
            " 0.21248093 0.21246172 0.21242113 0.21236181 0.21228826 0.21220452\n",
            " 0.21211407 0.21201938 0.2119222  0.21182388]\n",
            "10 day output [[0.2117251]]\n",
            "11 day input [0.17715717 0.17485285 0.18131497 0.18780213 0.19048215 0.1892799\n",
            " 0.19927364 0.19526612 0.20187852 0.2033062  0.20756418 0.20751409\n",
            " 0.21192235 0.20989355 0.2115717  0.2082154  0.20776456 0.20929242\n",
            " 0.20671259 0.20816531 0.21139637 0.20686287 0.21685661 0.21410144\n",
            " 0.2189856  0.22259236 0.21625548 0.22008766 0.21305047 0.21305047\n",
            " 0.21305047 0.21305047 0.21305047 0.21305047 0.21305047 0.21305047\n",
            " 0.21305047 0.21305047 0.21305047 0.21305047 0.21305047 0.21305047\n",
            " 0.21305047 0.21305047 0.21305047 0.21305047 0.21305047 0.21305047\n",
            " 0.21305047 0.21305047 0.21305047 0.21305047 0.21305047 0.21305047\n",
            " 0.21305047 0.21305047 0.21305047 0.21305047 0.21305047 0.21305047\n",
            " 0.21305047 0.21305047 0.21305047 0.21305047 0.21305047 0.21305047\n",
            " 0.21305047 0.21305047 0.21305047 0.21305047 0.21305047 0.21305047\n",
            " 0.21305047 0.21305047 0.21305047 0.21305047 0.21305047 0.21305047\n",
            " 0.21305047 0.21305047 0.21305047 0.21305047 0.21305047 0.21305047\n",
            " 0.21305047 0.21305047 0.21305047 0.21305047 0.21305047 0.21248093\n",
            " 0.21246172 0.21242113 0.21236181 0.21228826 0.21220452 0.21211407\n",
            " 0.21201938 0.2119222  0.21182388 0.2117251 ]\n",
            "11 day output [[0.21162638]]\n",
            "12 day input [0.17485285 0.18131497 0.18780213 0.19048215 0.1892799  0.19927364\n",
            " 0.19526612 0.20187852 0.2033062  0.20756418 0.20751409 0.21192235\n",
            " 0.20989355 0.2115717  0.2082154  0.20776456 0.20929242 0.20671259\n",
            " 0.20816531 0.21139637 0.20686287 0.21685661 0.21410144 0.2189856\n",
            " 0.22259236 0.21625548 0.22008766 0.21305047 0.21305047 0.21305047\n",
            " 0.21305047 0.21305047 0.21305047 0.21305047 0.21305047 0.21305047\n",
            " 0.21305047 0.21305047 0.21305047 0.21305047 0.21305047 0.21305047\n",
            " 0.21305047 0.21305047 0.21305047 0.21305047 0.21305047 0.21305047\n",
            " 0.21305047 0.21305047 0.21305047 0.21305047 0.21305047 0.21305047\n",
            " 0.21305047 0.21305047 0.21305047 0.21305047 0.21305047 0.21305047\n",
            " 0.21305047 0.21305047 0.21305047 0.21305047 0.21305047 0.21305047\n",
            " 0.21305047 0.21305047 0.21305047 0.21305047 0.21305047 0.21305047\n",
            " 0.21305047 0.21305047 0.21305047 0.21305047 0.21305047 0.21305047\n",
            " 0.21305047 0.21305047 0.21305047 0.21305047 0.21305047 0.21305047\n",
            " 0.21305047 0.21305047 0.21305047 0.21305047 0.21248093 0.21246172\n",
            " 0.21242113 0.21236181 0.21228826 0.21220452 0.21211407 0.21201938\n",
            " 0.2119222  0.21182388 0.2117251  0.21162638]\n",
            "12 day output [[0.21152803]]\n",
            "13 day input [0.18131497 0.18780213 0.19048215 0.1892799  0.19927364 0.19526612\n",
            " 0.20187852 0.2033062  0.20756418 0.20751409 0.21192235 0.20989355\n",
            " 0.2115717  0.2082154  0.20776456 0.20929242 0.20671259 0.20816531\n",
            " 0.21139637 0.20686287 0.21685661 0.21410144 0.2189856  0.22259236\n",
            " 0.21625548 0.22008766 0.21305047 0.21305047 0.21305047 0.21305047\n",
            " 0.21305047 0.21305047 0.21305047 0.21305047 0.21305047 0.21305047\n",
            " 0.21305047 0.21305047 0.21305047 0.21305047 0.21305047 0.21305047\n",
            " 0.21305047 0.21305047 0.21305047 0.21305047 0.21305047 0.21305047\n",
            " 0.21305047 0.21305047 0.21305047 0.21305047 0.21305047 0.21305047\n",
            " 0.21305047 0.21305047 0.21305047 0.21305047 0.21305047 0.21305047\n",
            " 0.21305047 0.21305047 0.21305047 0.21305047 0.21305047 0.21305047\n",
            " 0.21305047 0.21305047 0.21305047 0.21305047 0.21305047 0.21305047\n",
            " 0.21305047 0.21305047 0.21305047 0.21305047 0.21305047 0.21305047\n",
            " 0.21305047 0.21305047 0.21305047 0.21305047 0.21305047 0.21305047\n",
            " 0.21305047 0.21305047 0.21305047 0.21248093 0.21246172 0.21242113\n",
            " 0.21236181 0.21228826 0.21220452 0.21211407 0.21201938 0.2119222\n",
            " 0.21182388 0.2117251  0.21162638 0.21152803]\n",
            "13 day output [[0.21143016]]\n",
            "14 day input [0.18780213 0.19048215 0.1892799  0.19927364 0.19526612 0.20187852\n",
            " 0.2033062  0.20756418 0.20751409 0.21192235 0.20989355 0.2115717\n",
            " 0.2082154  0.20776456 0.20929242 0.20671259 0.20816531 0.21139637\n",
            " 0.20686287 0.21685661 0.21410144 0.2189856  0.22259236 0.21625548\n",
            " 0.22008766 0.21305047 0.21305047 0.21305047 0.21305047 0.21305047\n",
            " 0.21305047 0.21305047 0.21305047 0.21305047 0.21305047 0.21305047\n",
            " 0.21305047 0.21305047 0.21305047 0.21305047 0.21305047 0.21305047\n",
            " 0.21305047 0.21305047 0.21305047 0.21305047 0.21305047 0.21305047\n",
            " 0.21305047 0.21305047 0.21305047 0.21305047 0.21305047 0.21305047\n",
            " 0.21305047 0.21305047 0.21305047 0.21305047 0.21305047 0.21305047\n",
            " 0.21305047 0.21305047 0.21305047 0.21305047 0.21305047 0.21305047\n",
            " 0.21305047 0.21305047 0.21305047 0.21305047 0.21305047 0.21305047\n",
            " 0.21305047 0.21305047 0.21305047 0.21305047 0.21305047 0.21305047\n",
            " 0.21305047 0.21305047 0.21305047 0.21305047 0.21305047 0.21305047\n",
            " 0.21305047 0.21305047 0.21248093 0.21246172 0.21242113 0.21236181\n",
            " 0.21228826 0.21220452 0.21211407 0.21201938 0.2119222  0.21182388\n",
            " 0.2117251  0.21162638 0.21152803 0.21143016]\n",
            "14 day output [[0.21133283]]\n",
            "15 day input [0.19048215 0.1892799  0.19927364 0.19526612 0.20187852 0.2033062\n",
            " 0.20756418 0.20751409 0.21192235 0.20989355 0.2115717  0.2082154\n",
            " 0.20776456 0.20929242 0.20671259 0.20816531 0.21139637 0.20686287\n",
            " 0.21685661 0.21410144 0.2189856  0.22259236 0.21625548 0.22008766\n",
            " 0.21305047 0.21305047 0.21305047 0.21305047 0.21305047 0.21305047\n",
            " 0.21305047 0.21305047 0.21305047 0.21305047 0.21305047 0.21305047\n",
            " 0.21305047 0.21305047 0.21305047 0.21305047 0.21305047 0.21305047\n",
            " 0.21305047 0.21305047 0.21305047 0.21305047 0.21305047 0.21305047\n",
            " 0.21305047 0.21305047 0.21305047 0.21305047 0.21305047 0.21305047\n",
            " 0.21305047 0.21305047 0.21305047 0.21305047 0.21305047 0.21305047\n",
            " 0.21305047 0.21305047 0.21305047 0.21305047 0.21305047 0.21305047\n",
            " 0.21305047 0.21305047 0.21305047 0.21305047 0.21305047 0.21305047\n",
            " 0.21305047 0.21305047 0.21305047 0.21305047 0.21305047 0.21305047\n",
            " 0.21305047 0.21305047 0.21305047 0.21305047 0.21305047 0.21305047\n",
            " 0.21305047 0.21248093 0.21246172 0.21242113 0.21236181 0.21228826\n",
            " 0.21220452 0.21211407 0.21201938 0.2119222  0.21182388 0.2117251\n",
            " 0.21162638 0.21152803 0.21143016 0.21133283]\n",
            "15 day output [[0.211236]]\n",
            "16 day input [0.1892799  0.19927364 0.19526612 0.20187852 0.2033062  0.20756418\n",
            " 0.20751409 0.21192235 0.20989355 0.2115717  0.2082154  0.20776456\n",
            " 0.20929242 0.20671259 0.20816531 0.21139637 0.20686287 0.21685661\n",
            " 0.21410144 0.2189856  0.22259236 0.21625548 0.22008766 0.21305047\n",
            " 0.21305047 0.21305047 0.21305047 0.21305047 0.21305047 0.21305047\n",
            " 0.21305047 0.21305047 0.21305047 0.21305047 0.21305047 0.21305047\n",
            " 0.21305047 0.21305047 0.21305047 0.21305047 0.21305047 0.21305047\n",
            " 0.21305047 0.21305047 0.21305047 0.21305047 0.21305047 0.21305047\n",
            " 0.21305047 0.21305047 0.21305047 0.21305047 0.21305047 0.21305047\n",
            " 0.21305047 0.21305047 0.21305047 0.21305047 0.21305047 0.21305047\n",
            " 0.21305047 0.21305047 0.21305047 0.21305047 0.21305047 0.21305047\n",
            " 0.21305047 0.21305047 0.21305047 0.21305047 0.21305047 0.21305047\n",
            " 0.21305047 0.21305047 0.21305047 0.21305047 0.21305047 0.21305047\n",
            " 0.21305047 0.21305047 0.21305047 0.21305047 0.21305047 0.21305047\n",
            " 0.21248093 0.21246172 0.21242113 0.21236181 0.21228826 0.21220452\n",
            " 0.21211407 0.21201938 0.2119222  0.21182388 0.2117251  0.21162638\n",
            " 0.21152803 0.21143016 0.21133283 0.211236  ]\n",
            "16 day output [[0.21113971]]\n",
            "17 day input [0.19927364 0.19526612 0.20187852 0.2033062  0.20756418 0.20751409\n",
            " 0.21192235 0.20989355 0.2115717  0.2082154  0.20776456 0.20929242\n",
            " 0.20671259 0.20816531 0.21139637 0.20686287 0.21685661 0.21410144\n",
            " 0.2189856  0.22259236 0.21625548 0.22008766 0.21305047 0.21305047\n",
            " 0.21305047 0.21305047 0.21305047 0.21305047 0.21305047 0.21305047\n",
            " 0.21305047 0.21305047 0.21305047 0.21305047 0.21305047 0.21305047\n",
            " 0.21305047 0.21305047 0.21305047 0.21305047 0.21305047 0.21305047\n",
            " 0.21305047 0.21305047 0.21305047 0.21305047 0.21305047 0.21305047\n",
            " 0.21305047 0.21305047 0.21305047 0.21305047 0.21305047 0.21305047\n",
            " 0.21305047 0.21305047 0.21305047 0.21305047 0.21305047 0.21305047\n",
            " 0.21305047 0.21305047 0.21305047 0.21305047 0.21305047 0.21305047\n",
            " 0.21305047 0.21305047 0.21305047 0.21305047 0.21305047 0.21305047\n",
            " 0.21305047 0.21305047 0.21305047 0.21305047 0.21305047 0.21305047\n",
            " 0.21305047 0.21305047 0.21305047 0.21305047 0.21305047 0.21248093\n",
            " 0.21246172 0.21242113 0.21236181 0.21228826 0.21220452 0.21211407\n",
            " 0.21201938 0.2119222  0.21182388 0.2117251  0.21162638 0.21152803\n",
            " 0.21143016 0.21133283 0.211236   0.21113971]\n",
            "17 day output [[0.21104376]]\n",
            "18 day input [0.19526612 0.20187852 0.2033062  0.20756418 0.20751409 0.21192235\n",
            " 0.20989355 0.2115717  0.2082154  0.20776456 0.20929242 0.20671259\n",
            " 0.20816531 0.21139637 0.20686287 0.21685661 0.21410144 0.2189856\n",
            " 0.22259236 0.21625548 0.22008766 0.21305047 0.21305047 0.21305047\n",
            " 0.21305047 0.21305047 0.21305047 0.21305047 0.21305047 0.21305047\n",
            " 0.21305047 0.21305047 0.21305047 0.21305047 0.21305047 0.21305047\n",
            " 0.21305047 0.21305047 0.21305047 0.21305047 0.21305047 0.21305047\n",
            " 0.21305047 0.21305047 0.21305047 0.21305047 0.21305047 0.21305047\n",
            " 0.21305047 0.21305047 0.21305047 0.21305047 0.21305047 0.21305047\n",
            " 0.21305047 0.21305047 0.21305047 0.21305047 0.21305047 0.21305047\n",
            " 0.21305047 0.21305047 0.21305047 0.21305047 0.21305047 0.21305047\n",
            " 0.21305047 0.21305047 0.21305047 0.21305047 0.21305047 0.21305047\n",
            " 0.21305047 0.21305047 0.21305047 0.21305047 0.21305047 0.21305047\n",
            " 0.21305047 0.21305047 0.21305047 0.21305047 0.21248093 0.21246172\n",
            " 0.21242113 0.21236181 0.21228826 0.21220452 0.21211407 0.21201938\n",
            " 0.2119222  0.21182388 0.2117251  0.21162638 0.21152803 0.21143016\n",
            " 0.21133283 0.211236   0.21113971 0.21104376]\n",
            "18 day output [[0.21094812]]\n",
            "19 day input [0.20187852 0.2033062  0.20756418 0.20751409 0.21192235 0.20989355\n",
            " 0.2115717  0.2082154  0.20776456 0.20929242 0.20671259 0.20816531\n",
            " 0.21139637 0.20686287 0.21685661 0.21410144 0.2189856  0.22259236\n",
            " 0.21625548 0.22008766 0.21305047 0.21305047 0.21305047 0.21305047\n",
            " 0.21305047 0.21305047 0.21305047 0.21305047 0.21305047 0.21305047\n",
            " 0.21305047 0.21305047 0.21305047 0.21305047 0.21305047 0.21305047\n",
            " 0.21305047 0.21305047 0.21305047 0.21305047 0.21305047 0.21305047\n",
            " 0.21305047 0.21305047 0.21305047 0.21305047 0.21305047 0.21305047\n",
            " 0.21305047 0.21305047 0.21305047 0.21305047 0.21305047 0.21305047\n",
            " 0.21305047 0.21305047 0.21305047 0.21305047 0.21305047 0.21305047\n",
            " 0.21305047 0.21305047 0.21305047 0.21305047 0.21305047 0.21305047\n",
            " 0.21305047 0.21305047 0.21305047 0.21305047 0.21305047 0.21305047\n",
            " 0.21305047 0.21305047 0.21305047 0.21305047 0.21305047 0.21305047\n",
            " 0.21305047 0.21305047 0.21305047 0.21248093 0.21246172 0.21242113\n",
            " 0.21236181 0.21228826 0.21220452 0.21211407 0.21201938 0.2119222\n",
            " 0.21182388 0.2117251  0.21162638 0.21152803 0.21143016 0.21133283\n",
            " 0.211236   0.21113971 0.21104376 0.21094812]\n",
            "19 day output [[0.2108528]]\n",
            "20 day input [0.2033062  0.20756418 0.20751409 0.21192235 0.20989355 0.2115717\n",
            " 0.2082154  0.20776456 0.20929242 0.20671259 0.20816531 0.21139637\n",
            " 0.20686287 0.21685661 0.21410144 0.2189856  0.22259236 0.21625548\n",
            " 0.22008766 0.21305047 0.21305047 0.21305047 0.21305047 0.21305047\n",
            " 0.21305047 0.21305047 0.21305047 0.21305047 0.21305047 0.21305047\n",
            " 0.21305047 0.21305047 0.21305047 0.21305047 0.21305047 0.21305047\n",
            " 0.21305047 0.21305047 0.21305047 0.21305047 0.21305047 0.21305047\n",
            " 0.21305047 0.21305047 0.21305047 0.21305047 0.21305047 0.21305047\n",
            " 0.21305047 0.21305047 0.21305047 0.21305047 0.21305047 0.21305047\n",
            " 0.21305047 0.21305047 0.21305047 0.21305047 0.21305047 0.21305047\n",
            " 0.21305047 0.21305047 0.21305047 0.21305047 0.21305047 0.21305047\n",
            " 0.21305047 0.21305047 0.21305047 0.21305047 0.21305047 0.21305047\n",
            " 0.21305047 0.21305047 0.21305047 0.21305047 0.21305047 0.21305047\n",
            " 0.21305047 0.21305047 0.21248093 0.21246172 0.21242113 0.21236181\n",
            " 0.21228826 0.21220452 0.21211407 0.21201938 0.2119222  0.21182388\n",
            " 0.2117251  0.21162638 0.21152803 0.21143016 0.21133283 0.211236\n",
            " 0.21113971 0.21104376 0.21094812 0.2108528 ]\n",
            "20 day output [[0.2107576]]\n",
            "21 day input [0.20756418 0.20751409 0.21192235 0.20989355 0.2115717  0.2082154\n",
            " 0.20776456 0.20929242 0.20671259 0.20816531 0.21139637 0.20686287\n",
            " 0.21685661 0.21410144 0.2189856  0.22259236 0.21625548 0.22008766\n",
            " 0.21305047 0.21305047 0.21305047 0.21305047 0.21305047 0.21305047\n",
            " 0.21305047 0.21305047 0.21305047 0.21305047 0.21305047 0.21305047\n",
            " 0.21305047 0.21305047 0.21305047 0.21305047 0.21305047 0.21305047\n",
            " 0.21305047 0.21305047 0.21305047 0.21305047 0.21305047 0.21305047\n",
            " 0.21305047 0.21305047 0.21305047 0.21305047 0.21305047 0.21305047\n",
            " 0.21305047 0.21305047 0.21305047 0.21305047 0.21305047 0.21305047\n",
            " 0.21305047 0.21305047 0.21305047 0.21305047 0.21305047 0.21305047\n",
            " 0.21305047 0.21305047 0.21305047 0.21305047 0.21305047 0.21305047\n",
            " 0.21305047 0.21305047 0.21305047 0.21305047 0.21305047 0.21305047\n",
            " 0.21305047 0.21305047 0.21305047 0.21305047 0.21305047 0.21305047\n",
            " 0.21305047 0.21248093 0.21246172 0.21242113 0.21236181 0.21228826\n",
            " 0.21220452 0.21211407 0.21201938 0.2119222  0.21182388 0.2117251\n",
            " 0.21162638 0.21152803 0.21143016 0.21133283 0.211236   0.21113971\n",
            " 0.21104376 0.21094812 0.2108528  0.2107576 ]\n",
            "21 day output [[0.2106625]]\n",
            "22 day input [0.20751409 0.21192235 0.20989355 0.2115717  0.2082154  0.20776456\n",
            " 0.20929242 0.20671259 0.20816531 0.21139637 0.20686287 0.21685661\n",
            " 0.21410144 0.2189856  0.22259236 0.21625548 0.22008766 0.21305047\n",
            " 0.21305047 0.21305047 0.21305047 0.21305047 0.21305047 0.21305047\n",
            " 0.21305047 0.21305047 0.21305047 0.21305047 0.21305047 0.21305047\n",
            " 0.21305047 0.21305047 0.21305047 0.21305047 0.21305047 0.21305047\n",
            " 0.21305047 0.21305047 0.21305047 0.21305047 0.21305047 0.21305047\n",
            " 0.21305047 0.21305047 0.21305047 0.21305047 0.21305047 0.21305047\n",
            " 0.21305047 0.21305047 0.21305047 0.21305047 0.21305047 0.21305047\n",
            " 0.21305047 0.21305047 0.21305047 0.21305047 0.21305047 0.21305047\n",
            " 0.21305047 0.21305047 0.21305047 0.21305047 0.21305047 0.21305047\n",
            " 0.21305047 0.21305047 0.21305047 0.21305047 0.21305047 0.21305047\n",
            " 0.21305047 0.21305047 0.21305047 0.21305047 0.21305047 0.21305047\n",
            " 0.21248093 0.21246172 0.21242113 0.21236181 0.21228826 0.21220452\n",
            " 0.21211407 0.21201938 0.2119222  0.21182388 0.2117251  0.21162638\n",
            " 0.21152803 0.21143016 0.21133283 0.211236   0.21113971 0.21104376\n",
            " 0.21094812 0.2108528  0.2107576  0.2106625 ]\n",
            "22 day output [[0.21056749]]\n",
            "23 day input [0.21192235 0.20989355 0.2115717  0.2082154  0.20776456 0.20929242\n",
            " 0.20671259 0.20816531 0.21139637 0.20686287 0.21685661 0.21410144\n",
            " 0.2189856  0.22259236 0.21625548 0.22008766 0.21305047 0.21305047\n",
            " 0.21305047 0.21305047 0.21305047 0.21305047 0.21305047 0.21305047\n",
            " 0.21305047 0.21305047 0.21305047 0.21305047 0.21305047 0.21305047\n",
            " 0.21305047 0.21305047 0.21305047 0.21305047 0.21305047 0.21305047\n",
            " 0.21305047 0.21305047 0.21305047 0.21305047 0.21305047 0.21305047\n",
            " 0.21305047 0.21305047 0.21305047 0.21305047 0.21305047 0.21305047\n",
            " 0.21305047 0.21305047 0.21305047 0.21305047 0.21305047 0.21305047\n",
            " 0.21305047 0.21305047 0.21305047 0.21305047 0.21305047 0.21305047\n",
            " 0.21305047 0.21305047 0.21305047 0.21305047 0.21305047 0.21305047\n",
            " 0.21305047 0.21305047 0.21305047 0.21305047 0.21305047 0.21305047\n",
            " 0.21305047 0.21305047 0.21305047 0.21305047 0.21305047 0.21248093\n",
            " 0.21246172 0.21242113 0.21236181 0.21228826 0.21220452 0.21211407\n",
            " 0.21201938 0.2119222  0.21182388 0.2117251  0.21162638 0.21152803\n",
            " 0.21143016 0.21133283 0.211236   0.21113971 0.21104376 0.21094812\n",
            " 0.2108528  0.2107576  0.2106625  0.21056749]\n",
            "23 day output [[0.21047248]]\n",
            "24 day input [0.20989355 0.2115717  0.2082154  0.20776456 0.20929242 0.20671259\n",
            " 0.20816531 0.21139637 0.20686287 0.21685661 0.21410144 0.2189856\n",
            " 0.22259236 0.21625548 0.22008766 0.21305047 0.21305047 0.21305047\n",
            " 0.21305047 0.21305047 0.21305047 0.21305047 0.21305047 0.21305047\n",
            " 0.21305047 0.21305047 0.21305047 0.21305047 0.21305047 0.21305047\n",
            " 0.21305047 0.21305047 0.21305047 0.21305047 0.21305047 0.21305047\n",
            " 0.21305047 0.21305047 0.21305047 0.21305047 0.21305047 0.21305047\n",
            " 0.21305047 0.21305047 0.21305047 0.21305047 0.21305047 0.21305047\n",
            " 0.21305047 0.21305047 0.21305047 0.21305047 0.21305047 0.21305047\n",
            " 0.21305047 0.21305047 0.21305047 0.21305047 0.21305047 0.21305047\n",
            " 0.21305047 0.21305047 0.21305047 0.21305047 0.21305047 0.21305047\n",
            " 0.21305047 0.21305047 0.21305047 0.21305047 0.21305047 0.21305047\n",
            " 0.21305047 0.21305047 0.21305047 0.21305047 0.21248093 0.21246172\n",
            " 0.21242113 0.21236181 0.21228826 0.21220452 0.21211407 0.21201938\n",
            " 0.2119222  0.21182388 0.2117251  0.21162638 0.21152803 0.21143016\n",
            " 0.21133283 0.211236   0.21113971 0.21104376 0.21094812 0.2108528\n",
            " 0.2107576  0.2106625  0.21056749 0.21047248]\n",
            "24 day output [[0.21037742]]\n",
            "25 day input [0.2115717  0.2082154  0.20776456 0.20929242 0.20671259 0.20816531\n",
            " 0.21139637 0.20686287 0.21685661 0.21410144 0.2189856  0.22259236\n",
            " 0.21625548 0.22008766 0.21305047 0.21305047 0.21305047 0.21305047\n",
            " 0.21305047 0.21305047 0.21305047 0.21305047 0.21305047 0.21305047\n",
            " 0.21305047 0.21305047 0.21305047 0.21305047 0.21305047 0.21305047\n",
            " 0.21305047 0.21305047 0.21305047 0.21305047 0.21305047 0.21305047\n",
            " 0.21305047 0.21305047 0.21305047 0.21305047 0.21305047 0.21305047\n",
            " 0.21305047 0.21305047 0.21305047 0.21305047 0.21305047 0.21305047\n",
            " 0.21305047 0.21305047 0.21305047 0.21305047 0.21305047 0.21305047\n",
            " 0.21305047 0.21305047 0.21305047 0.21305047 0.21305047 0.21305047\n",
            " 0.21305047 0.21305047 0.21305047 0.21305047 0.21305047 0.21305047\n",
            " 0.21305047 0.21305047 0.21305047 0.21305047 0.21305047 0.21305047\n",
            " 0.21305047 0.21305047 0.21305047 0.21248093 0.21246172 0.21242113\n",
            " 0.21236181 0.21228826 0.21220452 0.21211407 0.21201938 0.2119222\n",
            " 0.21182388 0.2117251  0.21162638 0.21152803 0.21143016 0.21133283\n",
            " 0.211236   0.21113971 0.21104376 0.21094812 0.2108528  0.2107576\n",
            " 0.2106625  0.21056749 0.21047248 0.21037742]\n",
            "25 day output [[0.21028236]]\n",
            "26 day input [0.2082154  0.20776456 0.20929242 0.20671259 0.20816531 0.21139637\n",
            " 0.20686287 0.21685661 0.21410144 0.2189856  0.22259236 0.21625548\n",
            " 0.22008766 0.21305047 0.21305047 0.21305047 0.21305047 0.21305047\n",
            " 0.21305047 0.21305047 0.21305047 0.21305047 0.21305047 0.21305047\n",
            " 0.21305047 0.21305047 0.21305047 0.21305047 0.21305047 0.21305047\n",
            " 0.21305047 0.21305047 0.21305047 0.21305047 0.21305047 0.21305047\n",
            " 0.21305047 0.21305047 0.21305047 0.21305047 0.21305047 0.21305047\n",
            " 0.21305047 0.21305047 0.21305047 0.21305047 0.21305047 0.21305047\n",
            " 0.21305047 0.21305047 0.21305047 0.21305047 0.21305047 0.21305047\n",
            " 0.21305047 0.21305047 0.21305047 0.21305047 0.21305047 0.21305047\n",
            " 0.21305047 0.21305047 0.21305047 0.21305047 0.21305047 0.21305047\n",
            " 0.21305047 0.21305047 0.21305047 0.21305047 0.21305047 0.21305047\n",
            " 0.21305047 0.21305047 0.21248093 0.21246172 0.21242113 0.21236181\n",
            " 0.21228826 0.21220452 0.21211407 0.21201938 0.2119222  0.21182388\n",
            " 0.2117251  0.21162638 0.21152803 0.21143016 0.21133283 0.211236\n",
            " 0.21113971 0.21104376 0.21094812 0.2108528  0.2107576  0.2106625\n",
            " 0.21056749 0.21047248 0.21037742 0.21028236]\n",
            "26 day output [[0.2101872]]\n",
            "27 day input [0.20776456 0.20929242 0.20671259 0.20816531 0.21139637 0.20686287\n",
            " 0.21685661 0.21410144 0.2189856  0.22259236 0.21625548 0.22008766\n",
            " 0.21305047 0.21305047 0.21305047 0.21305047 0.21305047 0.21305047\n",
            " 0.21305047 0.21305047 0.21305047 0.21305047 0.21305047 0.21305047\n",
            " 0.21305047 0.21305047 0.21305047 0.21305047 0.21305047 0.21305047\n",
            " 0.21305047 0.21305047 0.21305047 0.21305047 0.21305047 0.21305047\n",
            " 0.21305047 0.21305047 0.21305047 0.21305047 0.21305047 0.21305047\n",
            " 0.21305047 0.21305047 0.21305047 0.21305047 0.21305047 0.21305047\n",
            " 0.21305047 0.21305047 0.21305047 0.21305047 0.21305047 0.21305047\n",
            " 0.21305047 0.21305047 0.21305047 0.21305047 0.21305047 0.21305047\n",
            " 0.21305047 0.21305047 0.21305047 0.21305047 0.21305047 0.21305047\n",
            " 0.21305047 0.21305047 0.21305047 0.21305047 0.21305047 0.21305047\n",
            " 0.21305047 0.21248093 0.21246172 0.21242113 0.21236181 0.21228826\n",
            " 0.21220452 0.21211407 0.21201938 0.2119222  0.21182388 0.2117251\n",
            " 0.21162638 0.21152803 0.21143016 0.21133283 0.211236   0.21113971\n",
            " 0.21104376 0.21094812 0.2108528  0.2107576  0.2106625  0.21056749\n",
            " 0.21047248 0.21037742 0.21028236 0.2101872 ]\n",
            "27 day output [[0.21009207]]\n",
            "28 day input [0.20929242 0.20671259 0.20816531 0.21139637 0.20686287 0.21685661\n",
            " 0.21410144 0.2189856  0.22259236 0.21625548 0.22008766 0.21305047\n",
            " 0.21305047 0.21305047 0.21305047 0.21305047 0.21305047 0.21305047\n",
            " 0.21305047 0.21305047 0.21305047 0.21305047 0.21305047 0.21305047\n",
            " 0.21305047 0.21305047 0.21305047 0.21305047 0.21305047 0.21305047\n",
            " 0.21305047 0.21305047 0.21305047 0.21305047 0.21305047 0.21305047\n",
            " 0.21305047 0.21305047 0.21305047 0.21305047 0.21305047 0.21305047\n",
            " 0.21305047 0.21305047 0.21305047 0.21305047 0.21305047 0.21305047\n",
            " 0.21305047 0.21305047 0.21305047 0.21305047 0.21305047 0.21305047\n",
            " 0.21305047 0.21305047 0.21305047 0.21305047 0.21305047 0.21305047\n",
            " 0.21305047 0.21305047 0.21305047 0.21305047 0.21305047 0.21305047\n",
            " 0.21305047 0.21305047 0.21305047 0.21305047 0.21305047 0.21305047\n",
            " 0.21248093 0.21246172 0.21242113 0.21236181 0.21228826 0.21220452\n",
            " 0.21211407 0.21201938 0.2119222  0.21182388 0.2117251  0.21162638\n",
            " 0.21152803 0.21143016 0.21133283 0.211236   0.21113971 0.21104376\n",
            " 0.21094812 0.2108528  0.2107576  0.2106625  0.21056749 0.21047248\n",
            " 0.21037742 0.21028236 0.2101872  0.21009207]\n",
            "28 day output [[0.20999677]]\n",
            "29 day input [0.20671259 0.20816531 0.21139637 0.20686287 0.21685661 0.21410144\n",
            " 0.2189856  0.22259236 0.21625548 0.22008766 0.21305047 0.21305047\n",
            " 0.21305047 0.21305047 0.21305047 0.21305047 0.21305047 0.21305047\n",
            " 0.21305047 0.21305047 0.21305047 0.21305047 0.21305047 0.21305047\n",
            " 0.21305047 0.21305047 0.21305047 0.21305047 0.21305047 0.21305047\n",
            " 0.21305047 0.21305047 0.21305047 0.21305047 0.21305047 0.21305047\n",
            " 0.21305047 0.21305047 0.21305047 0.21305047 0.21305047 0.21305047\n",
            " 0.21305047 0.21305047 0.21305047 0.21305047 0.21305047 0.21305047\n",
            " 0.21305047 0.21305047 0.21305047 0.21305047 0.21305047 0.21305047\n",
            " 0.21305047 0.21305047 0.21305047 0.21305047 0.21305047 0.21305047\n",
            " 0.21305047 0.21305047 0.21305047 0.21305047 0.21305047 0.21305047\n",
            " 0.21305047 0.21305047 0.21305047 0.21305047 0.21305047 0.21248093\n",
            " 0.21246172 0.21242113 0.21236181 0.21228826 0.21220452 0.21211407\n",
            " 0.21201938 0.2119222  0.21182388 0.2117251  0.21162638 0.21152803\n",
            " 0.21143016 0.21133283 0.211236   0.21113971 0.21104376 0.21094812\n",
            " 0.2108528  0.2107576  0.2106625  0.21056749 0.21047248 0.21037742\n",
            " 0.21028236 0.2101872  0.21009207 0.20999677]\n",
            "29 day output [[0.20990145]]\n",
            "[[0.21248093247413635], [0.21246172487735748], [0.21242113411426544], [0.21236181259155273], [0.2122882604598999], [0.21220451593399048], [0.21211406588554382], [0.21201938390731812], [0.21192219853401184], [0.21182388067245483], [0.21172510087490082], [0.21162638068199158], [0.21152803301811218], [0.211430162191391], [0.21133282780647278], [0.21123600006103516], [0.2111397087574005], [0.21104376018047333], [0.2109481245279312], [0.21085280179977417], [0.21075759828090668], [0.21066249907016754], [0.21056748926639557], [0.2104724794626236], [0.21037742495536804], [0.2102823555469513], [0.21018719673156738], [0.21009206771850586], [0.2099967747926712], [0.20990145206451416]]\n"
          ]
        }
      ]
    },
    {
      "cell_type": "code",
      "source": [
        "import numpy as np\n",
        "day_new= np.arange(1,101)\n",
        "day_pred= np.arange(101,131)\n"
      ],
      "metadata": {
        "id": "NE5ydifqMuU_"
      },
      "execution_count": null,
      "outputs": []
    },
    {
      "cell_type": "code",
      "source": [
        "len(df2)\n"
      ],
      "metadata": {
        "colab": {
          "base_uri": "https://localhost:8080/"
        },
        "id": "ciG4drqqNigq",
        "outputId": "887ef67e-a5c0-4fff-b73a-090cf8545034"
      },
      "execution_count": null,
      "outputs": [
        {
          "output_type": "execute_result",
          "data": {
            "text/plain": [
              "1257"
            ]
          },
          "metadata": {},
          "execution_count": 86
        }
      ]
    },
    {
      "cell_type": "code",
      "source": [
        "df3= df2.tolist()\n",
        "df3.extend(lst_output)"
      ],
      "metadata": {
        "id": "S7VuY6cuN4O1"
      },
      "execution_count": null,
      "outputs": []
    },
    {
      "cell_type": "code",
      "source": [
        "len(df3)"
      ],
      "metadata": {
        "colab": {
          "base_uri": "https://localhost:8080/"
        },
        "id": "eR7Yj0tPODnI",
        "outputId": "f45395ea-724d-4ade-80a0-ae2f8a75eea0"
      },
      "execution_count": null,
      "outputs": [
        {
          "output_type": "execute_result",
          "data": {
            "text/plain": [
              "1257"
            ]
          },
          "metadata": {},
          "execution_count": 88
        }
      ]
    },
    {
      "cell_type": "code",
      "source": [
        "plt.plot(day_new, scaler.inverse_transform(df2[1157:]))\n",
        "plt.plot(day_pred, scaler.inverse_transform(lst_output))"
      ],
      "metadata": {
        "colab": {
          "base_uri": "https://localhost:8080/",
          "height": 448
        },
        "id": "8lPGjJdUOGJ2",
        "outputId": "610cbff2-7b63-406e-8f43-ba6d24871a32"
      },
      "execution_count": null,
      "outputs": [
        {
          "output_type": "execute_result",
          "data": {
            "text/plain": [
              "[<matplotlib.lines.Line2D at 0x7854b43a4490>]"
            ]
          },
          "metadata": {},
          "execution_count": 92
        },
        {
          "output_type": "display_data",
          "data": {
            "text/plain": [
              "<Figure size 640x480 with 1 Axes>"
            ],
            "image/png": "[encoded data removed]"
          },
          "metadata": {}
        }
      ]
    },
    {
      "cell_type": "code",
      "source": [
        "\n",
        "df3= df2.tolist()\n",
        "df3.extend(lst_output)\n",
        "plt.plot(df3[1200:])"
      ],
      "metadata": {
        "colab": {
          "base_uri": "https://localhost:8080/",
          "height": 448
        },
        "id": "3zrTKmbmOhnS",
        "outputId": "0a2f2c95-87f3-48d3-d22f-ee0cd99e0ba0"
      },
      "execution_count": null,
      "outputs": [
        {
          "output_type": "execute_result",
          "data": {
            "text/plain": [
              "[<matplotlib.lines.Line2D at 0x7854acc4d570>]"
            ]
          },
          "metadata": {},
          "execution_count": 100
        },
        {
          "output_type": "display_data",
          "data": {
            "text/plain": [
              "<Figure size 640x480 with 1 Axes>"
            ],
            "image/png": "[encoded data removed]"
          },
          "metadata": {}
        }
      ]
    },
    {
      "cell_type": "code",
      "source": [],
      "metadata": {
        "id": "MBQtQRx1QNzR"
      },
      "execution_count": null,
      "outputs": []
    }
  ]
}